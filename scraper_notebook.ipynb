{
 "metadata": {
  "language_info": {
   "codemirror_mode": {
    "name": "ipython",
    "version": 3
   },
   "file_extension": ".py",
   "mimetype": "text/x-python",
   "name": "python",
   "nbconvert_exporter": "python",
   "pygments_lexer": "ipython3",
   "version": "3.6.9"
  },
  "orig_nbformat": 4,
  "kernelspec": {
   "name": "python3",
   "display_name": "Python 3.6.9 64-bit"
  },
  "interpreter": {
   "hash": "31f2aee4e71d21fbe5cf8b01ff0e069b9275f58929596ceb00d14d90e3e16cd6"
  }
 },
 "nbformat": 4,
 "nbformat_minor": 2,
 "cells": [
  {
   "source": [
    "# Notebook for scraping remote data science jobs off indeed.com"
   ],
   "cell_type": "markdown",
   "metadata": {}
  },
  {
   "source": [
    "import requests\n",
    "import os\n",
    "import re\n",
    "import time\n",
    "import pandas as pd\n",
    "from bs4 import BeautifulSoup\n",
    "\n",
    "parser = 'html5lib'\n",
    "tools_to_find = ['python', ' R ', 'SQL', 'D3.js', 'matlab', 'excel', 'SAS', 'BigML', 'Apache Spark', 'Jupyter', 'Tableau', 'Scikit', 'Tensorflow', 'Weka', 'Matplotlib', 'ggplot', 'nltk', 'Azure', 'BI'] # change BI next run\n",
    "big_table = []"
   ],
   "cell_type": "code",
   "metadata": {},
   "execution_count": 12,
   "outputs": []
  },
  {
   "cell_type": "code",
   "execution_count": 4,
   "metadata": {},
   "outputs": [
    {
     "output_type": "error",
     "ename": "AttributeError",
     "evalue": "'NoneType' object has no attribute 'text'",
     "traceback": [
      "\u001b[0;31m---------------------------------------------------------------------------\u001b[0m",
      "\u001b[0;31mAttributeError\u001b[0m                            Traceback (most recent call last)",
      "\u001b[0;32m<ipython-input-4-e7d48e2bf13c>\u001b[0m in \u001b[0;36m<module>\u001b[0;34m\u001b[0m\n\u001b[1;32m      7\u001b[0m \u001b[0;31m# res.text = '\\n                    Page 1 of 3,337 jobs', we only need the numbers, remove everything else with regex\u001b[0m\u001b[0;34m\u001b[0m\u001b[0;34m\u001b[0m\u001b[0;34m\u001b[0m\u001b[0m\n\u001b[1;32m      8\u001b[0m \u001b[0mnum_re_keep\u001b[0m \u001b[0;34m=\u001b[0m \u001b[0;34m\"[^0-9]\"\u001b[0m\u001b[0;34m\u001b[0m\u001b[0;34m\u001b[0m\u001b[0m\n\u001b[0;32m----> 9\u001b[0;31m \u001b[0mres_nums_string\u001b[0m \u001b[0;34m=\u001b[0m \u001b[0mre\u001b[0m\u001b[0;34m.\u001b[0m\u001b[0msub\u001b[0m\u001b[0;34m(\u001b[0m\u001b[0mnum_re_keep\u001b[0m\u001b[0;34m,\u001b[0m \u001b[0;34m\"\"\u001b[0m\u001b[0;34m,\u001b[0m \u001b[0mres\u001b[0m\u001b[0;34m.\u001b[0m\u001b[0mtext\u001b[0m\u001b[0;34m)\u001b[0m\u001b[0;34m\u001b[0m\u001b[0;34m\u001b[0m\u001b[0m\n\u001b[0m\u001b[1;32m     10\u001b[0m \u001b[0;31m# python slice notation: list[<start>:<stop>:<step>]\u001b[0m\u001b[0;34m\u001b[0m\u001b[0;34m\u001b[0m\u001b[0;34m\u001b[0m\u001b[0m\n\u001b[1;32m     11\u001b[0m \u001b[0;31m# we want to get rid of the 1\u001b[0m\u001b[0;34m\u001b[0m\u001b[0;34m\u001b[0m\u001b[0;34m\u001b[0m\u001b[0m\n",
      "\u001b[0;31mAttributeError\u001b[0m: 'NoneType' object has no attribute 'text'"
     ]
    }
   ],
   "source": [
    "\"\"\" initial cell to get total number of job postings from html \"\"\"\n",
    "\n",
    "URL = \"https://www.indeed.com/jobs?q=data%20science&l=Remote\"\n",
    "page = requests.get(URL)\n",
    "soup = BeautifulSoup(page.content, parser)\n",
    "res = soup.find(id=\"searchCountPages\")\n",
    "# res.text = '\\n                    Page 1 of 3,337 jobs', we only need the numbers, remove everything else with regex\n",
    "num_re_keep = \"[^0-9]\"\n",
    "res_nums_string = re.sub(num_re_keep, \"\", res.text)\n",
    "# python slice notation: list[<start>:<stop>:<step>]\n",
    "# we want to get rid of the 1\n",
    "total_num_jobs_str = res_nums_string[1:]\n",
    "total_num_jobs_int = int(total_num_jobs_str)\n"
   ]
  },
  {
   "cell_type": "code",
   "execution_count": 15,
   "metadata": {},
   "outputs": [
    {
     "output_type": "stream",
     "name": "stdout",
     "text": [
      "['0', '10', '20', '30', '40', '50', '60', '70', '80', '90', '100', '110', '120', '130', '140', '150', '160', '170', '180', '190', '200', '210', '220', '230', '240', '250', '260', '270', '280', '290', '300', '310', '320', '330', '340', '350', '360', '370', '380', '390', '400', '410', '420', '430', '440', '450', '460', '470', '480', '490', '500', '510', '520', '530', '540', '550', '560', '570', '580', '590', '600', '610', '620', '630', '640', '650', '660', '670', '680', '690', '700', '710', '720', '730', '740', '750', '760', '770', '780', '790', '800', '810', '820', '830', '840', '850', '860', '870', '880', '890', '900', '910', '920', '930', '940', '950', '960', '970', '980', '990', '1000', '1010', '1020', '1030', '1040', '1050', '1060', '1070', '1080', '1090', '1100', '1110', '1120', '1130', '1140', '1150', '1160', '1170', '1180', '1190', '1200', '1210', '1220', '1230', '1240', '1250', '1260', '1270', '1280', '1290', '1300', '1310', '1320', '1330', '1340', '1350', '1360', '1370', '1380', '1390', '1400', '1410', '1420', '1430', '1440', '1450', '1460', '1470', '1480', '1490', '1500', '1510', '1520', '1530', '1540', '1550', '1560', '1570', '1580', '1590', '1600', '1610', '1620', '1630', '1640', '1650', '1660', '1670', '1680', '1690', '1700', '1710', '1720', '1730', '1740', '1750', '1760', '1770', '1780', '1790', '1800', '1810', '1820', '1830', '1840', '1850', '1860', '1870', '1880', '1890', '1900', '1910', '1920', '1930', '1940', '1950', '1960', '1970', '1980', '1990', '2000', '2010', '2020', '2030', '2040', '2050', '2060', '2070', '2080', '2090', '2100', '2110', '2120', '2130', '2140', '2150', '2160', '2170', '2180', '2190', '2200', '2210', '2220', '2230', '2240', '2250', '2260', '2270', '2280', '2290', '2300', '2310', '2320', '2330', '2340', '2350', '2360', '2370', '2380', '2390', '2400', '2410', '2420', '2430', '2440', '2450', '2460', '2470', '2480', '2490', '2500', '2510', '2520', '2530', '2540', '2550', '2560', '2570', '2580', '2590', '2600', '2610', '2620', '2630', '2640', '2650', '2660', '2670', '2680', '2690', '2700', '2710', '2720', '2730', '2740', '2750', '2760', '2770', '2780', '2790', '2800', '2810', '2820', '2830', '2840', '2850', '2860', '2870', '2880', '2890', '2900', '2910', '2920', '2930', '2940', '2950', '2960', '2970', '2980', '2990', '3000', '3010', '3020', '3030', '3040', '3050', '3060', '3070', '3080', '3090', '3100', '3110', '3120', '3130', '3140', '3150', '3160', '3170', '3180', '3190', '3200', '3210', '3220', '3230', '3240', '3250', '3260', '3270', '3280', '3290', '3300', '3310', '3320', '3330']\n"
     ]
    }
   ],
   "source": [
    "\"\"\" cell to create the list of all the extensions for each url\"\"\"\n",
    "\n",
    "job_num_list = []\n",
    "job_step = 10\n",
    "for i in range(0, total_num_jobs_int, job_step):\n",
    "    str2num = str(i)\n",
    "    job_num_list.append(str2num)\n",
    "print(job_num_list)"
   ]
  },
  {
   "cell_type": "code",
   "execution_count": 23,
   "metadata": {},
   "outputs": [
    {
     "output_type": "stream",
     "name": "stdout",
     "text": [
      "['3330', '3320', '3310', '3300', '3290', '3280', '3270', '3260', '3250', '3240', '3230', '3220', '3210', '3200', '3190', '3180', '3170', '3160', '3150', '3140', '3130', '3120', '3110', '3100', '3090', '3080', '3070', '3060', '3050', '3040', '3030', '3020', '3010', '3000', '2990', '2980', '2970', '2960', '2950', '2940', '2930', '2920', '2910', '2900', '2890', '2880', '2870', '2860', '2850', '2840', '2830', '2820', '2810', '2800', '2790', '2780', '2770', '2760', '2750', '2740', '2730', '2720', '2710', '2700', '2690', '2680', '2670', '2660', '2650', '2640', '2630', '2620', '2610', '2600', '2590', '2580', '2570', '2560', '2550', '2540', '2530', '2520', '2510', '2500', '2490', '2480', '2470', '2460', '2450', '2440', '2430', '2420', '2410', '2400', '2390', '2380', '2370', '2360', '2350', '2340', '2330', '2320', '2310', '2300', '2290', '2280', '2270', '2260', '2250', '2240', '2230', '2220', '2210', '2200', '2190', '2180', '2170', '2160', '2150', '2140', '2130', '2120', '2110', '2100', '2090', '2080', '2070', '2060', '2050', '2040', '2030', '2020', '2010', '2000', '1990', '1980', '1970', '1960', '1950', '1940', '1930', '1920', '1910', '1900', '1890', '1880', '1870', '1860', '1850', '1840', '1830', '1820', '1810', '1800', '1790', '1780', '1770', '1760', '1750', '1740', '1730', '1720', '1710', '1700', '1690', '1680', '1670', '1660', '1650', '1640', '1630', '1620', '1610', '1600', '1590', '1580', '1570', '1560', '1550', '1540', '1530', '1520', '1510', '1500', '1490', '1480', '1470', '1460', '1450', '1440', '1430', '1420', '1410', '1400', '1390', '1380', '1370', '1360', '1350', '1340', '1330', '1320', '1310', '1300', '1290', '1280', '1270', '1260', '1250', '1240', '1230', '1220', '1210', '1200', '1190', '1180', '1170', '1160', '1150', '1140', '1130', '1120', '1110', '1100', '1090', '1080', '1070', '1060', '1050', '1040', '1030', '1020', '1010', '1000', '990', '980', '970', '960', '950', '940', '930', '920', '910', '900', '890', '880', '870', '860', '850', '840', '830', '820', '810', '800', '790', '780', '770', '760', '750', '740', '730', '720', '710', '700', '690', '680', '670', '660', '650', '640', '630', '620', '610', '600', '590', '580', '570', '560', '550', '540', '530', '520', '510', '500', '490', '480', '470', '460', '450', '440', '430', '420', '410', '400', '390', '380', '370', '360', '350', '340', '330', '320', '310', '300', '290', '280', '270', '260', '250', '240', '230', '220', '210', '200', '190', '180', '170', '160', '150', '140', '130', '120', '110', '100', '90', '80', '70', '60', '50', '40', '30', '20', '10', '0']\n"
     ]
    }
   ],
   "source": [
    "job_num_list.reverse()\n",
    "job_num_list_rev = job_num_list\n",
    "job_num_list.reverse()\n",
    "\n",
    "print(job_num_list_rev)"
   ]
  },
  {
   "cell_type": "code",
   "execution_count": 16,
   "metadata": {},
   "outputs": [],
   "source": [
    "\"\"\" cell to get information from each job description\"\"\"\n",
    "def find_tools(desc):\n",
    "    tools_in_desc = []\n",
    "    for tool in tools_to_find:\n",
    "        if tool.lower() in desc.lower():\n",
    "            tools_in_desc.append(tool)\n",
    "    return tools_in_desc"
   ]
  },
  {
   "cell_type": "code",
   "execution_count": 17,
   "metadata": {},
   "outputs": [],
   "source": [
    "\"\"\" cell to find all the job ids to get to the actual job descriptions on each page \"\"\"\n",
    "\n",
    "def scrape_jobs(soup, URL):\n",
    "    # get the job id and company name from the cards on the page\n",
    "    for card in soup.find_all('div', class_=[\"jobsearch-SerpJobCard\"]):\n",
    "        title_link = card.find('a')\n",
    "        # get job name\n",
    "        job_name_str = title_link.get('title')\n",
    "        job_link = title_link.get('href')\n",
    "        coy_name = card.find('span', class_=[\"company\"])\n",
    "        # get company name\n",
    "        coy_name_str = coy_name.text\n",
    "        job_link = title_link.get('href')\n",
    "        # need to extract the necessary info from the href.\n",
    "        \"\"\" parts:\n",
    "        https://www.indeed.com/viewjob?\n",
    "        jk=0bd5cc9c5ecab98a\n",
    "        &\n",
    "        from=serp\n",
    "        &\n",
    "        vjs=3   \n",
    "        \"\"\"\n",
    "        part1 = \"https://www.indeed.com/viewjob?\"\n",
    "        and_symb = \"&\"\n",
    "        part2 = \"from=serp\"\n",
    "        # get jk tag\n",
    "        jk_tag_start_idx = (job_link.find(\"clk?\") + 4)\n",
    "        jk_tag_end_idx = job_link.find(\"&\")\n",
    "        jk_tag = job_link[jk_tag_start_idx: jk_tag_end_idx]\n",
    "        #print(jk_tag)\n",
    "        # get end tag\n",
    "        vjs_tag = job_link[job_link.find(\"vjs\"):]\n",
    "        #print(vjs_tag)\n",
    "        full_link = part1 + jk_tag + and_symb + part2 + and_symb + vjs_tag\n",
    "        print(full_link)\n",
    "        page = requests.get(full_link)\n",
    "        soup = BeautifulSoup(page.content, parser)\n",
    "        desc = soup.find('div', id=[\"jobDescriptionText\"])\n",
    "        if (desc == None):\n",
    "            continue\n",
    "        tools_list = find_tools(desc.text)\n",
    "        #print(tools_list)\n",
    "        # make a string to write to csv\n",
    "        comma = \",\"\n",
    "        tools_list_str = comma.join(tools_list)\n",
    "        out_str = job_name_str + comma + coy_name_str + comma + tools_list_str\n",
    "        print(out_str)\n",
    "        big_table.append(out_str)"
   ]
  },
  {
   "cell_type": "code",
   "execution_count": 26,
   "metadata": {
    "tags": []
   },
   "outputs": [
    {
     "output_type": "stream",
     "name": "stdout",
     "text": [
      "https://www.indeed.com/jobs?q=data+science&l=Remote&start=3330\n",
      "<html><head>\n",
      "<title>hCaptcha solve page</title>\n",
      "<script async=\"\" defer=\"\" src=\"https://www.hcaptcha.com/1/api.js\"></script>\n",
      "</head>\n",
      "<body>\n",
      "<form action=\"/jobs?q=data+science&amp;l=Remote&amp;start=3330\" method=\"POST\">\n",
      "<div class=\"h-captcha\" data-sitekey=\"eb27f525-f936-43b4-91e2-95a426d4a8bd\"></div>\n",
      "<br/>\n",
      "<input type=\"submit\" value=\"Submit\"/>\n",
      "</form>\n",
      "\n",
      "\n",
      "</body></html>\n",
      "https://www.indeed.com/jobs?q=data+science&l=Remote&start=3320\n",
      "<html><head>\n",
      "<title>hCaptcha solve page</title>\n",
      "<script async=\"\" defer=\"\" src=\"https://www.hcaptcha.com/1/api.js\"></script>\n",
      "</head>\n",
      "<body>\n",
      "<form action=\"/jobs?q=data+science&amp;l=Remote&amp;start=3320\" method=\"POST\">\n",
      "<div class=\"h-captcha\" data-sitekey=\"eb27f525-f936-43b4-91e2-95a426d4a8bd\"></div>\n",
      "<br/>\n",
      "<input type=\"submit\" value=\"Submit\"/>\n",
      "</form>\n",
      "\n",
      "\n",
      "</body></html>\n",
      "https://www.indeed.com/jobs?q=data+science&l=Remote&start=3310\n",
      "<html><head>\n",
      "<title>hCaptcha solve page</title>\n",
      "<script async=\"\" defer=\"\" src=\"https://www.hcaptcha.com/1/api.js\"></script>\n",
      "</head>\n",
      "<body>\n",
      "<form action=\"/jobs?q=data+science&amp;l=Remote&amp;start=3310\" method=\"POST\">\n",
      "<div class=\"h-captcha\" data-sitekey=\"eb27f525-f936-43b4-91e2-95a426d4a8bd\"></div>\n",
      "<br/>\n",
      "<input type=\"submit\" value=\"Submit\"/>\n",
      "</form>\n",
      "\n",
      "\n",
      "</body></html>\n",
      "https://www.indeed.com/jobs?q=data+science&l=Remote&start=3300\n",
      "<html><head>\n",
      "<title>hCaptcha solve page</title>\n",
      "<script async=\"\" defer=\"\" src=\"https://www.hcaptcha.com/1/api.js\"></script>\n",
      "</head>\n",
      "<body>\n",
      "<form action=\"/jobs?q=data+science&amp;l=Remote&amp;start=3300\" method=\"POST\">\n",
      "<div class=\"h-captcha\" data-sitekey=\"eb27f525-f936-43b4-91e2-95a426d4a8bd\"></div>\n",
      "<br/>\n",
      "<input type=\"submit\" value=\"Submit\"/>\n",
      "</form>\n",
      "\n",
      "\n",
      "</body></html>\n",
      "https://www.indeed.com/jobs?q=data+science&l=Remote&start=3290\n",
      "<html><head>\n",
      "<title>hCaptcha solve page</title>\n",
      "<script async=\"\" defer=\"\" src=\"https://www.hcaptcha.com/1/api.js\"></script>\n",
      "</head>\n",
      "<body>\n",
      "<form action=\"/jobs?q=data+science&amp;l=Remote&amp;start=3290\" method=\"POST\">\n",
      "<div class=\"h-captcha\" data-sitekey=\"eb27f525-f936-43b4-91e2-95a426d4a8bd\"></div>\n",
      "<br/>\n",
      "<input type=\"submit\" value=\"Submit\"/>\n",
      "</form>\n",
      "\n",
      "\n",
      "</body></html>\n",
      "https://www.indeed.com/jobs?q=data+science&l=Remote&start=3280\n",
      "<html><head>\n",
      "<title>hCaptcha solve page</title>\n",
      "<script async=\"\" defer=\"\" src=\"https://www.hcaptcha.com/1/api.js\"></script>\n",
      "</head>\n",
      "<body>\n",
      "<form action=\"/jobs?q=data+science&amp;l=Remote&amp;start=3280\" method=\"POST\">\n",
      "<div class=\"h-captcha\" data-sitekey=\"eb27f525-f936-43b4-91e2-95a426d4a8bd\"></div>\n",
      "<br/>\n",
      "<input type=\"submit\" value=\"Submit\"/>\n",
      "</form>\n",
      "\n",
      "\n",
      "</body></html>\n",
      "https://www.indeed.com/jobs?q=data+science&l=Remote&start=3270\n",
      "<html><head>\n",
      "<title>hCaptcha solve page</title>\n",
      "<script async=\"\" defer=\"\" src=\"https://www.hcaptcha.com/1/api.js\"></script>\n",
      "</head>\n",
      "<body>\n",
      "<form action=\"/jobs?q=data+science&amp;l=Remote&amp;start=3270\" method=\"POST\">\n",
      "<div class=\"h-captcha\" data-sitekey=\"eb27f525-f936-43b4-91e2-95a426d4a8bd\"></div>\n",
      "<br/>\n",
      "<input type=\"submit\" value=\"Submit\"/>\n",
      "</form>\n",
      "\n",
      "\n",
      "</body></html>\n",
      "https://www.indeed.com/jobs?q=data+science&l=Remote&start=3260\n",
      "<html><head>\n",
      "<title>hCaptcha solve page</title>\n",
      "<script async=\"\" defer=\"\" src=\"https://www.hcaptcha.com/1/api.js\"></script>\n",
      "</head>\n",
      "<body>\n",
      "<form action=\"/jobs?q=data+science&amp;l=Remote&amp;start=3260\" method=\"POST\">\n",
      "<div class=\"h-captcha\" data-sitekey=\"eb27f525-f936-43b4-91e2-95a426d4a8bd\"></div>\n",
      "<br/>\n",
      "<input type=\"submit\" value=\"Submit\"/>\n",
      "</form>\n",
      "\n",
      "\n",
      "</body></html>\n"
     ]
    },
    {
     "output_type": "error",
     "ename": "KeyboardInterrupt",
     "evalue": "",
     "traceback": [
      "\u001b[0;31m---------------------------------------------------------------------------\u001b[0m",
      "\u001b[0;31mKeyboardInterrupt\u001b[0m                         Traceback (most recent call last)",
      "\u001b[0;32m<ipython-input-26-8e8fa33ab674>\u001b[0m in \u001b[0;36m<module>\u001b[0;34m\u001b[0m\n\u001b[1;32m      7\u001b[0m     \u001b[0;31m#print(URL_base+URL_extn)\u001b[0m\u001b[0;34m\u001b[0m\u001b[0;34m\u001b[0m\u001b[0;34m\u001b[0m\u001b[0m\n\u001b[1;32m      8\u001b[0m     \u001b[0mURL\u001b[0m \u001b[0;34m=\u001b[0m \u001b[0mURL_base\u001b[0m\u001b[0;34m+\u001b[0m\u001b[0mURL_extn\u001b[0m\u001b[0;34m\u001b[0m\u001b[0;34m\u001b[0m\u001b[0m\n\u001b[0;32m----> 9\u001b[0;31m     \u001b[0mpage\u001b[0m \u001b[0;34m=\u001b[0m \u001b[0mrequests\u001b[0m\u001b[0;34m.\u001b[0m\u001b[0mget\u001b[0m\u001b[0;34m(\u001b[0m\u001b[0mURL\u001b[0m\u001b[0;34m)\u001b[0m\u001b[0;34m\u001b[0m\u001b[0;34m\u001b[0m\u001b[0m\n\u001b[0m\u001b[1;32m     10\u001b[0m     \u001b[0mprint\u001b[0m\u001b[0;34m(\u001b[0m\u001b[0mURL\u001b[0m\u001b[0;34m)\u001b[0m\u001b[0;34m\u001b[0m\u001b[0;34m\u001b[0m\u001b[0m\n\u001b[1;32m     11\u001b[0m     \u001b[0msoup\u001b[0m \u001b[0;34m=\u001b[0m \u001b[0mBeautifulSoup\u001b[0m\u001b[0;34m(\u001b[0m\u001b[0mpage\u001b[0m\u001b[0;34m.\u001b[0m\u001b[0mcontent\u001b[0m\u001b[0;34m,\u001b[0m \u001b[0mparser\u001b[0m\u001b[0;34m)\u001b[0m\u001b[0;34m\u001b[0m\u001b[0;34m\u001b[0m\u001b[0m\n",
      "\u001b[0;32m~/.local/lib/python3.6/site-packages/requests/api.py\u001b[0m in \u001b[0;36mget\u001b[0;34m(url, params, **kwargs)\u001b[0m\n\u001b[1;32m     74\u001b[0m \u001b[0;34m\u001b[0m\u001b[0m\n\u001b[1;32m     75\u001b[0m     \u001b[0mkwargs\u001b[0m\u001b[0;34m.\u001b[0m\u001b[0msetdefault\u001b[0m\u001b[0;34m(\u001b[0m\u001b[0;34m'allow_redirects'\u001b[0m\u001b[0;34m,\u001b[0m \u001b[0;32mTrue\u001b[0m\u001b[0;34m)\u001b[0m\u001b[0;34m\u001b[0m\u001b[0;34m\u001b[0m\u001b[0m\n\u001b[0;32m---> 76\u001b[0;31m     \u001b[0;32mreturn\u001b[0m \u001b[0mrequest\u001b[0m\u001b[0;34m(\u001b[0m\u001b[0;34m'get'\u001b[0m\u001b[0;34m,\u001b[0m \u001b[0murl\u001b[0m\u001b[0;34m,\u001b[0m \u001b[0mparams\u001b[0m\u001b[0;34m=\u001b[0m\u001b[0mparams\u001b[0m\u001b[0;34m,\u001b[0m \u001b[0;34m**\u001b[0m\u001b[0mkwargs\u001b[0m\u001b[0;34m)\u001b[0m\u001b[0;34m\u001b[0m\u001b[0;34m\u001b[0m\u001b[0m\n\u001b[0m\u001b[1;32m     77\u001b[0m \u001b[0;34m\u001b[0m\u001b[0m\n\u001b[1;32m     78\u001b[0m \u001b[0;34m\u001b[0m\u001b[0m\n",
      "\u001b[0;32m~/.local/lib/python3.6/site-packages/requests/api.py\u001b[0m in \u001b[0;36mrequest\u001b[0;34m(method, url, **kwargs)\u001b[0m\n\u001b[1;32m     59\u001b[0m     \u001b[0;31m# cases, and look like a memory leak in others.\u001b[0m\u001b[0;34m\u001b[0m\u001b[0;34m\u001b[0m\u001b[0;34m\u001b[0m\u001b[0m\n\u001b[1;32m     60\u001b[0m     \u001b[0;32mwith\u001b[0m \u001b[0msessions\u001b[0m\u001b[0;34m.\u001b[0m\u001b[0mSession\u001b[0m\u001b[0;34m(\u001b[0m\u001b[0;34m)\u001b[0m \u001b[0;32mas\u001b[0m \u001b[0msession\u001b[0m\u001b[0;34m:\u001b[0m\u001b[0;34m\u001b[0m\u001b[0;34m\u001b[0m\u001b[0m\n\u001b[0;32m---> 61\u001b[0;31m         \u001b[0;32mreturn\u001b[0m \u001b[0msession\u001b[0m\u001b[0;34m.\u001b[0m\u001b[0mrequest\u001b[0m\u001b[0;34m(\u001b[0m\u001b[0mmethod\u001b[0m\u001b[0;34m=\u001b[0m\u001b[0mmethod\u001b[0m\u001b[0;34m,\u001b[0m \u001b[0murl\u001b[0m\u001b[0;34m=\u001b[0m\u001b[0murl\u001b[0m\u001b[0;34m,\u001b[0m \u001b[0;34m**\u001b[0m\u001b[0mkwargs\u001b[0m\u001b[0;34m)\u001b[0m\u001b[0;34m\u001b[0m\u001b[0;34m\u001b[0m\u001b[0m\n\u001b[0m\u001b[1;32m     62\u001b[0m \u001b[0;34m\u001b[0m\u001b[0m\n\u001b[1;32m     63\u001b[0m \u001b[0;34m\u001b[0m\u001b[0m\n",
      "\u001b[0;32m~/.local/lib/python3.6/site-packages/requests/sessions.py\u001b[0m in \u001b[0;36mrequest\u001b[0;34m(self, method, url, params, data, headers, cookies, files, auth, timeout, allow_redirects, proxies, hooks, stream, verify, cert, json)\u001b[0m\n\u001b[1;32m    540\u001b[0m         }\n\u001b[1;32m    541\u001b[0m         \u001b[0msend_kwargs\u001b[0m\u001b[0;34m.\u001b[0m\u001b[0mupdate\u001b[0m\u001b[0;34m(\u001b[0m\u001b[0msettings\u001b[0m\u001b[0;34m)\u001b[0m\u001b[0;34m\u001b[0m\u001b[0;34m\u001b[0m\u001b[0m\n\u001b[0;32m--> 542\u001b[0;31m         \u001b[0mresp\u001b[0m \u001b[0;34m=\u001b[0m \u001b[0mself\u001b[0m\u001b[0;34m.\u001b[0m\u001b[0msend\u001b[0m\u001b[0;34m(\u001b[0m\u001b[0mprep\u001b[0m\u001b[0;34m,\u001b[0m \u001b[0;34m**\u001b[0m\u001b[0msend_kwargs\u001b[0m\u001b[0;34m)\u001b[0m\u001b[0;34m\u001b[0m\u001b[0;34m\u001b[0m\u001b[0m\n\u001b[0m\u001b[1;32m    543\u001b[0m \u001b[0;34m\u001b[0m\u001b[0m\n\u001b[1;32m    544\u001b[0m         \u001b[0;32mreturn\u001b[0m \u001b[0mresp\u001b[0m\u001b[0;34m\u001b[0m\u001b[0;34m\u001b[0m\u001b[0m\n",
      "\u001b[0;32m~/.local/lib/python3.6/site-packages/requests/sessions.py\u001b[0m in \u001b[0;36msend\u001b[0;34m(self, request, **kwargs)\u001b[0m\n\u001b[1;32m    653\u001b[0m \u001b[0;34m\u001b[0m\u001b[0m\n\u001b[1;32m    654\u001b[0m         \u001b[0;31m# Send the request\u001b[0m\u001b[0;34m\u001b[0m\u001b[0;34m\u001b[0m\u001b[0;34m\u001b[0m\u001b[0m\n\u001b[0;32m--> 655\u001b[0;31m         \u001b[0mr\u001b[0m \u001b[0;34m=\u001b[0m \u001b[0madapter\u001b[0m\u001b[0;34m.\u001b[0m\u001b[0msend\u001b[0m\u001b[0;34m(\u001b[0m\u001b[0mrequest\u001b[0m\u001b[0;34m,\u001b[0m \u001b[0;34m**\u001b[0m\u001b[0mkwargs\u001b[0m\u001b[0;34m)\u001b[0m\u001b[0;34m\u001b[0m\u001b[0;34m\u001b[0m\u001b[0m\n\u001b[0m\u001b[1;32m    656\u001b[0m \u001b[0;34m\u001b[0m\u001b[0m\n\u001b[1;32m    657\u001b[0m         \u001b[0;31m# Total elapsed time of the request (approximately)\u001b[0m\u001b[0;34m\u001b[0m\u001b[0;34m\u001b[0m\u001b[0;34m\u001b[0m\u001b[0m\n",
      "\u001b[0;32m~/.local/lib/python3.6/site-packages/requests/adapters.py\u001b[0m in \u001b[0;36msend\u001b[0;34m(self, request, stream, timeout, verify, cert, proxies)\u001b[0m\n\u001b[1;32m    447\u001b[0m                     \u001b[0mdecode_content\u001b[0m\u001b[0;34m=\u001b[0m\u001b[0;32mFalse\u001b[0m\u001b[0;34m,\u001b[0m\u001b[0;34m\u001b[0m\u001b[0;34m\u001b[0m\u001b[0m\n\u001b[1;32m    448\u001b[0m                     \u001b[0mretries\u001b[0m\u001b[0;34m=\u001b[0m\u001b[0mself\u001b[0m\u001b[0;34m.\u001b[0m\u001b[0mmax_retries\u001b[0m\u001b[0;34m,\u001b[0m\u001b[0;34m\u001b[0m\u001b[0;34m\u001b[0m\u001b[0m\n\u001b[0;32m--> 449\u001b[0;31m                     \u001b[0mtimeout\u001b[0m\u001b[0;34m=\u001b[0m\u001b[0mtimeout\u001b[0m\u001b[0;34m\u001b[0m\u001b[0;34m\u001b[0m\u001b[0m\n\u001b[0m\u001b[1;32m    450\u001b[0m                 )\n\u001b[1;32m    451\u001b[0m \u001b[0;34m\u001b[0m\u001b[0m\n",
      "\u001b[0;32m~/.local/lib/python3.6/site-packages/urllib3/connectionpool.py\u001b[0m in \u001b[0;36murlopen\u001b[0;34m(self, method, url, body, headers, retries, redirect, assert_same_host, timeout, pool_timeout, release_conn, chunked, body_pos, **response_kw)\u001b[0m\n\u001b[1;32m    704\u001b[0m                 \u001b[0mbody\u001b[0m\u001b[0;34m=\u001b[0m\u001b[0mbody\u001b[0m\u001b[0;34m,\u001b[0m\u001b[0;34m\u001b[0m\u001b[0;34m\u001b[0m\u001b[0m\n\u001b[1;32m    705\u001b[0m                 \u001b[0mheaders\u001b[0m\u001b[0;34m=\u001b[0m\u001b[0mheaders\u001b[0m\u001b[0;34m,\u001b[0m\u001b[0;34m\u001b[0m\u001b[0;34m\u001b[0m\u001b[0m\n\u001b[0;32m--> 706\u001b[0;31m                 \u001b[0mchunked\u001b[0m\u001b[0;34m=\u001b[0m\u001b[0mchunked\u001b[0m\u001b[0;34m,\u001b[0m\u001b[0;34m\u001b[0m\u001b[0;34m\u001b[0m\u001b[0m\n\u001b[0m\u001b[1;32m    707\u001b[0m             )\n\u001b[1;32m    708\u001b[0m \u001b[0;34m\u001b[0m\u001b[0m\n",
      "\u001b[0;32m~/.local/lib/python3.6/site-packages/urllib3/connectionpool.py\u001b[0m in \u001b[0;36m_make_request\u001b[0;34m(self, conn, method, url, timeout, chunked, **httplib_request_kw)\u001b[0m\n\u001b[1;32m    380\u001b[0m         \u001b[0;31m# Trigger any extra validation we need to do.\u001b[0m\u001b[0;34m\u001b[0m\u001b[0;34m\u001b[0m\u001b[0;34m\u001b[0m\u001b[0m\n\u001b[1;32m    381\u001b[0m         \u001b[0;32mtry\u001b[0m\u001b[0;34m:\u001b[0m\u001b[0;34m\u001b[0m\u001b[0;34m\u001b[0m\u001b[0m\n\u001b[0;32m--> 382\u001b[0;31m             \u001b[0mself\u001b[0m\u001b[0;34m.\u001b[0m\u001b[0m_validate_conn\u001b[0m\u001b[0;34m(\u001b[0m\u001b[0mconn\u001b[0m\u001b[0;34m)\u001b[0m\u001b[0;34m\u001b[0m\u001b[0;34m\u001b[0m\u001b[0m\n\u001b[0m\u001b[1;32m    383\u001b[0m         \u001b[0;32mexcept\u001b[0m \u001b[0;34m(\u001b[0m\u001b[0mSocketTimeout\u001b[0m\u001b[0;34m,\u001b[0m \u001b[0mBaseSSLError\u001b[0m\u001b[0;34m)\u001b[0m \u001b[0;32mas\u001b[0m \u001b[0me\u001b[0m\u001b[0;34m:\u001b[0m\u001b[0;34m\u001b[0m\u001b[0;34m\u001b[0m\u001b[0m\n\u001b[1;32m    384\u001b[0m             \u001b[0;31m# Py2 raises this as a BaseSSLError, Py3 raises it as socket timeout.\u001b[0m\u001b[0;34m\u001b[0m\u001b[0;34m\u001b[0m\u001b[0;34m\u001b[0m\u001b[0m\n",
      "\u001b[0;32m~/.local/lib/python3.6/site-packages/urllib3/connectionpool.py\u001b[0m in \u001b[0;36m_validate_conn\u001b[0;34m(self, conn)\u001b[0m\n\u001b[1;32m   1008\u001b[0m         \u001b[0;31m# Force connect early to allow us to validate the connection.\u001b[0m\u001b[0;34m\u001b[0m\u001b[0;34m\u001b[0m\u001b[0;34m\u001b[0m\u001b[0m\n\u001b[1;32m   1009\u001b[0m         \u001b[0;32mif\u001b[0m \u001b[0;32mnot\u001b[0m \u001b[0mgetattr\u001b[0m\u001b[0;34m(\u001b[0m\u001b[0mconn\u001b[0m\u001b[0;34m,\u001b[0m \u001b[0;34m\"sock\"\u001b[0m\u001b[0;34m,\u001b[0m \u001b[0;32mNone\u001b[0m\u001b[0;34m)\u001b[0m\u001b[0;34m:\u001b[0m  \u001b[0;31m# AppEngine might not have  `.sock`\u001b[0m\u001b[0;34m\u001b[0m\u001b[0;34m\u001b[0m\u001b[0m\n\u001b[0;32m-> 1010\u001b[0;31m             \u001b[0mconn\u001b[0m\u001b[0;34m.\u001b[0m\u001b[0mconnect\u001b[0m\u001b[0;34m(\u001b[0m\u001b[0;34m)\u001b[0m\u001b[0;34m\u001b[0m\u001b[0;34m\u001b[0m\u001b[0m\n\u001b[0m\u001b[1;32m   1011\u001b[0m \u001b[0;34m\u001b[0m\u001b[0m\n\u001b[1;32m   1012\u001b[0m         \u001b[0;32mif\u001b[0m \u001b[0;32mnot\u001b[0m \u001b[0mconn\u001b[0m\u001b[0;34m.\u001b[0m\u001b[0mis_verified\u001b[0m\u001b[0;34m:\u001b[0m\u001b[0;34m\u001b[0m\u001b[0;34m\u001b[0m\u001b[0m\n",
      "\u001b[0;32m~/.local/lib/python3.6/site-packages/urllib3/connection.py\u001b[0m in \u001b[0;36mconnect\u001b[0;34m(self)\u001b[0m\n\u001b[1;32m    419\u001b[0m             \u001b[0mserver_hostname\u001b[0m\u001b[0;34m=\u001b[0m\u001b[0mserver_hostname\u001b[0m\u001b[0;34m,\u001b[0m\u001b[0;34m\u001b[0m\u001b[0;34m\u001b[0m\u001b[0m\n\u001b[1;32m    420\u001b[0m             \u001b[0mssl_context\u001b[0m\u001b[0;34m=\u001b[0m\u001b[0mcontext\u001b[0m\u001b[0;34m,\u001b[0m\u001b[0;34m\u001b[0m\u001b[0;34m\u001b[0m\u001b[0m\n\u001b[0;32m--> 421\u001b[0;31m             \u001b[0mtls_in_tls\u001b[0m\u001b[0;34m=\u001b[0m\u001b[0mtls_in_tls\u001b[0m\u001b[0;34m,\u001b[0m\u001b[0;34m\u001b[0m\u001b[0;34m\u001b[0m\u001b[0m\n\u001b[0m\u001b[1;32m    422\u001b[0m         )\n\u001b[1;32m    423\u001b[0m \u001b[0;34m\u001b[0m\u001b[0m\n",
      "\u001b[0;32m~/.local/lib/python3.6/site-packages/urllib3/util/ssl_.py\u001b[0m in \u001b[0;36mssl_wrap_socket\u001b[0;34m(sock, keyfile, certfile, cert_reqs, ca_certs, server_hostname, ssl_version, ciphers, ssl_context, ca_cert_dir, key_password, ca_cert_data, tls_in_tls)\u001b[0m\n\u001b[1;32m    448\u001b[0m     \u001b[0;32mif\u001b[0m \u001b[0msend_sni\u001b[0m\u001b[0;34m:\u001b[0m\u001b[0;34m\u001b[0m\u001b[0;34m\u001b[0m\u001b[0m\n\u001b[1;32m    449\u001b[0m         ssl_sock = _ssl_wrap_socket_impl(\n\u001b[0;32m--> 450\u001b[0;31m             \u001b[0msock\u001b[0m\u001b[0;34m,\u001b[0m \u001b[0mcontext\u001b[0m\u001b[0;34m,\u001b[0m \u001b[0mtls_in_tls\u001b[0m\u001b[0;34m,\u001b[0m \u001b[0mserver_hostname\u001b[0m\u001b[0;34m=\u001b[0m\u001b[0mserver_hostname\u001b[0m\u001b[0;34m\u001b[0m\u001b[0;34m\u001b[0m\u001b[0m\n\u001b[0m\u001b[1;32m    451\u001b[0m         )\n\u001b[1;32m    452\u001b[0m     \u001b[0;32melse\u001b[0m\u001b[0;34m:\u001b[0m\u001b[0;34m\u001b[0m\u001b[0;34m\u001b[0m\u001b[0m\n",
      "\u001b[0;32m~/.local/lib/python3.6/site-packages/urllib3/util/ssl_.py\u001b[0m in \u001b[0;36m_ssl_wrap_socket_impl\u001b[0;34m(sock, ssl_context, tls_in_tls, server_hostname)\u001b[0m\n\u001b[1;32m    491\u001b[0m \u001b[0;34m\u001b[0m\u001b[0m\n\u001b[1;32m    492\u001b[0m     \u001b[0;32mif\u001b[0m \u001b[0mserver_hostname\u001b[0m\u001b[0;34m:\u001b[0m\u001b[0;34m\u001b[0m\u001b[0;34m\u001b[0m\u001b[0m\n\u001b[0;32m--> 493\u001b[0;31m         \u001b[0;32mreturn\u001b[0m \u001b[0mssl_context\u001b[0m\u001b[0;34m.\u001b[0m\u001b[0mwrap_socket\u001b[0m\u001b[0;34m(\u001b[0m\u001b[0msock\u001b[0m\u001b[0;34m,\u001b[0m \u001b[0mserver_hostname\u001b[0m\u001b[0;34m=\u001b[0m\u001b[0mserver_hostname\u001b[0m\u001b[0;34m)\u001b[0m\u001b[0;34m\u001b[0m\u001b[0;34m\u001b[0m\u001b[0m\n\u001b[0m\u001b[1;32m    494\u001b[0m     \u001b[0;32melse\u001b[0m\u001b[0;34m:\u001b[0m\u001b[0;34m\u001b[0m\u001b[0;34m\u001b[0m\u001b[0m\n\u001b[1;32m    495\u001b[0m         \u001b[0;32mreturn\u001b[0m \u001b[0mssl_context\u001b[0m\u001b[0;34m.\u001b[0m\u001b[0mwrap_socket\u001b[0m\u001b[0;34m(\u001b[0m\u001b[0msock\u001b[0m\u001b[0;34m)\u001b[0m\u001b[0;34m\u001b[0m\u001b[0;34m\u001b[0m\u001b[0m\n",
      "\u001b[0;32m/usr/lib/python3.6/ssl.py\u001b[0m in \u001b[0;36mwrap_socket\u001b[0;34m(self, sock, server_side, do_handshake_on_connect, suppress_ragged_eofs, server_hostname, session)\u001b[0m\n\u001b[1;32m    405\u001b[0m                          \u001b[0msuppress_ragged_eofs\u001b[0m\u001b[0;34m=\u001b[0m\u001b[0msuppress_ragged_eofs\u001b[0m\u001b[0;34m,\u001b[0m\u001b[0;34m\u001b[0m\u001b[0;34m\u001b[0m\u001b[0m\n\u001b[1;32m    406\u001b[0m                          \u001b[0mserver_hostname\u001b[0m\u001b[0;34m=\u001b[0m\u001b[0mserver_hostname\u001b[0m\u001b[0;34m,\u001b[0m\u001b[0;34m\u001b[0m\u001b[0;34m\u001b[0m\u001b[0m\n\u001b[0;32m--> 407\u001b[0;31m                          _context=self, _session=session)\n\u001b[0m\u001b[1;32m    408\u001b[0m \u001b[0;34m\u001b[0m\u001b[0m\n\u001b[1;32m    409\u001b[0m     def wrap_bio(self, incoming, outgoing, server_side=False,\n",
      "\u001b[0;32m/usr/lib/python3.6/ssl.py\u001b[0m in \u001b[0;36m__init__\u001b[0;34m(self, sock, keyfile, certfile, server_side, cert_reqs, ssl_version, ca_certs, do_handshake_on_connect, family, type, proto, fileno, suppress_ragged_eofs, npn_protocols, ciphers, server_hostname, _context, _session)\u001b[0m\n\u001b[1;32m    815\u001b[0m                         \u001b[0;31m# non-blocking\u001b[0m\u001b[0;34m\u001b[0m\u001b[0;34m\u001b[0m\u001b[0;34m\u001b[0m\u001b[0m\n\u001b[1;32m    816\u001b[0m                         \u001b[0;32mraise\u001b[0m \u001b[0mValueError\u001b[0m\u001b[0;34m(\u001b[0m\u001b[0;34m\"do_handshake_on_connect should not be specified for non-blocking sockets\"\u001b[0m\u001b[0;34m)\u001b[0m\u001b[0;34m\u001b[0m\u001b[0;34m\u001b[0m\u001b[0m\n\u001b[0;32m--> 817\u001b[0;31m                     \u001b[0mself\u001b[0m\u001b[0;34m.\u001b[0m\u001b[0mdo_handshake\u001b[0m\u001b[0;34m(\u001b[0m\u001b[0;34m)\u001b[0m\u001b[0;34m\u001b[0m\u001b[0;34m\u001b[0m\u001b[0m\n\u001b[0m\u001b[1;32m    818\u001b[0m \u001b[0;34m\u001b[0m\u001b[0m\n\u001b[1;32m    819\u001b[0m             \u001b[0;32mexcept\u001b[0m \u001b[0;34m(\u001b[0m\u001b[0mOSError\u001b[0m\u001b[0;34m,\u001b[0m \u001b[0mValueError\u001b[0m\u001b[0;34m)\u001b[0m\u001b[0;34m:\u001b[0m\u001b[0;34m\u001b[0m\u001b[0;34m\u001b[0m\u001b[0m\n",
      "\u001b[0;32m/usr/lib/python3.6/ssl.py\u001b[0m in \u001b[0;36mdo_handshake\u001b[0;34m(self, block)\u001b[0m\n\u001b[1;32m   1075\u001b[0m             \u001b[0;32mif\u001b[0m \u001b[0mtimeout\u001b[0m \u001b[0;34m==\u001b[0m \u001b[0;36m0.0\u001b[0m \u001b[0;32mand\u001b[0m \u001b[0mblock\u001b[0m\u001b[0;34m:\u001b[0m\u001b[0;34m\u001b[0m\u001b[0;34m\u001b[0m\u001b[0m\n\u001b[1;32m   1076\u001b[0m                 \u001b[0mself\u001b[0m\u001b[0;34m.\u001b[0m\u001b[0msettimeout\u001b[0m\u001b[0;34m(\u001b[0m\u001b[0;32mNone\u001b[0m\u001b[0;34m)\u001b[0m\u001b[0;34m\u001b[0m\u001b[0;34m\u001b[0m\u001b[0m\n\u001b[0;32m-> 1077\u001b[0;31m             \u001b[0mself\u001b[0m\u001b[0;34m.\u001b[0m\u001b[0m_sslobj\u001b[0m\u001b[0;34m.\u001b[0m\u001b[0mdo_handshake\u001b[0m\u001b[0;34m(\u001b[0m\u001b[0;34m)\u001b[0m\u001b[0;34m\u001b[0m\u001b[0;34m\u001b[0m\u001b[0m\n\u001b[0m\u001b[1;32m   1078\u001b[0m         \u001b[0;32mfinally\u001b[0m\u001b[0;34m:\u001b[0m\u001b[0;34m\u001b[0m\u001b[0;34m\u001b[0m\u001b[0m\n\u001b[1;32m   1079\u001b[0m             \u001b[0mself\u001b[0m\u001b[0;34m.\u001b[0m\u001b[0msettimeout\u001b[0m\u001b[0;34m(\u001b[0m\u001b[0mtimeout\u001b[0m\u001b[0;34m)\u001b[0m\u001b[0;34m\u001b[0m\u001b[0;34m\u001b[0m\u001b[0m\n",
      "\u001b[0;32m/usr/lib/python3.6/ssl.py\u001b[0m in \u001b[0;36mdo_handshake\u001b[0;34m(self)\u001b[0m\n\u001b[1;32m    687\u001b[0m     \u001b[0;32mdef\u001b[0m \u001b[0mdo_handshake\u001b[0m\u001b[0;34m(\u001b[0m\u001b[0mself\u001b[0m\u001b[0;34m)\u001b[0m\u001b[0;34m:\u001b[0m\u001b[0;34m\u001b[0m\u001b[0;34m\u001b[0m\u001b[0m\n\u001b[1;32m    688\u001b[0m         \u001b[0;34m\"\"\"Start the SSL/TLS handshake.\"\"\"\u001b[0m\u001b[0;34m\u001b[0m\u001b[0;34m\u001b[0m\u001b[0m\n\u001b[0;32m--> 689\u001b[0;31m         \u001b[0mself\u001b[0m\u001b[0;34m.\u001b[0m\u001b[0m_sslobj\u001b[0m\u001b[0;34m.\u001b[0m\u001b[0mdo_handshake\u001b[0m\u001b[0;34m(\u001b[0m\u001b[0;34m)\u001b[0m\u001b[0;34m\u001b[0m\u001b[0;34m\u001b[0m\u001b[0m\n\u001b[0m\u001b[1;32m    690\u001b[0m         \u001b[0;32mif\u001b[0m \u001b[0mself\u001b[0m\u001b[0;34m.\u001b[0m\u001b[0mcontext\u001b[0m\u001b[0;34m.\u001b[0m\u001b[0mcheck_hostname\u001b[0m\u001b[0;34m:\u001b[0m\u001b[0;34m\u001b[0m\u001b[0;34m\u001b[0m\u001b[0m\n\u001b[1;32m    691\u001b[0m             \u001b[0;32mif\u001b[0m \u001b[0;32mnot\u001b[0m \u001b[0mself\u001b[0m\u001b[0;34m.\u001b[0m\u001b[0mserver_hostname\u001b[0m\u001b[0;34m:\u001b[0m\u001b[0;34m\u001b[0m\u001b[0;34m\u001b[0m\u001b[0m\n",
      "\u001b[0;31mKeyboardInterrupt\u001b[0m: "
     ]
    }
   ],
   "source": [
    "\"\"\" cell to loop through each page to extract information \"\"\"\n",
    "\n",
    "URL_base = \"https://www.indeed.com/jobs?q=data+science&l=Remote&start=\"\n",
    "URL_extn = \"\"\n",
    "for job_num in job_num_list_rev:\n",
    "    URL_extn = job_num\n",
    "    #print(URL_base+URL_extn)\n",
    "    URL = URL_base+URL_extn\n",
    "    page = requests.get(URL)\n",
    "    print(URL)\n",
    "    soup = BeautifulSoup(page.content, parser)\n",
    "    print(soup)\n",
    "    scrape_jobs(soup, URL)"
   ]
  },
  {
   "cell_type": "code",
   "execution_count": 11,
   "metadata": {},
   "outputs": [
    {
     "output_type": "stream",
     "name": "stdout",
     "text": [
      "hullo hello\n"
     ]
    }
   ],
   "source": [
    "strTest = \"hello hello\"\n",
    "strTest = strTest.replace(\"e\", \"u\", 1)\n",
    "print(strTest)"
   ]
  },
  {
   "cell_type": "code",
   "execution_count": 18,
   "metadata": {},
   "outputs": [
    {
     "output_type": "stream",
     "name": "stdout",
     "text": [
      "7ce52af9ada1a400\n"
     ]
    }
   ],
   "source": [
    "strtest = \"job_7ce52af9ada1a400\"\n",
    "print(strtest[4:])"
   ]
  },
  {
   "cell_type": "code",
   "execution_count": 121,
   "metadata": {},
   "outputs": [
    {
     "output_type": "stream",
     "name": "stdout",
     "text": [
      "yes\n"
     ]
    }
   ],
   "source": [
    "string_f = \"hello world\"\n",
    "sub_str = \"EL\"\n",
    "if sub_str.lower() in string_f.lower():\n",
    "    print(\"yes\")\n",
    "else:\n",
    "    print(\"no\")"
   ]
  },
  {
   "cell_type": "code",
   "execution_count": 19,
   "metadata": {},
   "outputs": [
    {
     "output_type": "execute_result",
     "data": {
      "text/plain": [
       "['data scientist -Remote,\\n\\nStarbucks,python,SQL,BI',\n",
       " 'Part-Time Student-Smart Connected Factory/Data and Analytics-Remote Availability,\\n\\nJohn Deere,BI',\n",
       " 'Data Scientist, Podcasts,\\n\\nSpotify,python,SQL,excel,BI',\n",
       " 'Data Scientist,\\nIntelliGen Technologies,BI',\n",
       " 'Part Time Data Science Instructor,\\n\\nKaplan,python,excel,BI',\n",
       " 'Data Scientist (Part-Time, Remote),\\n\\nKBR,BI',\n",
       " 'Data Scientist (Remote),\\n\\nDeloitte,python,SQL,Tableau,BI',\n",
       " 'Data Scientist - Entry Level,\\nNumerdox,python, R ,BI',\n",
       " 'Senior Lecturer (Online Adjunct), MS Data Science, SBE,\\n\\nUniversity of Wisconsin- Superior,excel,BI',\n",
       " 'Data Scientist, Music Analytics,\\n\\nSpotify,python,SQL,Tableau,BI',\n",
       " 'Healthcare Data Analyst,\\nClarify Health Solutions.,SQL,BI',\n",
       " 'Data Scientist - Analytics,\\nAcorn Analytics,python,excel,Jupyter,Matplotlib,BI',\n",
       " 'Data Engineer, Analytics (Generalist),\\n\\nFacebook,python,SQL,BI',\n",
       " 'Data Analytics Associate (SAS),\\nClarify Health Solutions.,SQL,SAS,BI',\n",
       " 'Data Scientist - Analytics,\\nAcorn Analytics,python,excel,Jupyter,Matplotlib,BI',\n",
       " 'DATA ANALYST,\\n\\nUniversity of Washington,python, R ,SAS,BI',\n",
       " 'Data Scientist,\\n\\nKaplan,python,excel,BI',\n",
       " 'Part Time Data Science Instructor,\\n\\nKaplan,python,excel,BI',\n",
       " 'Healthcare Data Analyst,\\nAmino,python,SQL,BI',\n",
       " 'Director I, Data Science,\\n\\nLiberty Mutual Insurance,SQL,excel,SAS,BI',\n",
       " 'Data Scientist, Podcasts,\\n\\nSpotify,python,SQL,excel,BI',\n",
       " 'Director, Product Analytics and Data Science - Data Science,\\n\\nSlack,matlab,excel,BI',\n",
       " 'Data Scientist I,\\n\\nWindstream Communications,python,SQL,Jupyter,Tableau,BI',\n",
       " 'Data Engineer, Analytics (Generalist),\\n\\nFacebook,python,SQL,BI',\n",
       " 'Analyst I, Data Science,\\n\\nLiberty Mutual Insurance,python,SQL,SAS,BI',\n",
       " 'Sr. Data Science Assessment Developer,\\n\\nAlteryx, Inc.,BI',\n",
       " 'Early career data scientist / analyst / statistical geneticist,\\nData Tecnica,python,excel,BI',\n",
       " 'Data Scientist,\\nAvantStay,python,SQL,SAS,BI',\n",
       " 'Deep Learning Data Scientist,\\nLinus Health,python,BI',\n",
       " 'Data Science Manager, Analytics,\\n\\nFacebook,SQL,matlab,SAS,BI',\n",
       " 'Data Modeler,\\n\\nCognizant Technology Solutions,excel,BI',\n",
       " 'Data Scientist, AI / NLP,\\nHappify Health,python,Scikit,Tensorflow,BI',\n",
       " 'Data Engineering Co-op,\\n\\nKeurig Dr Pepper,python,SQL,excel,Tableau,Azure,BI',\n",
       " 'Online Adjunct Faculty - MBA Data Analytics,\\n\\nHerzing University,excel,BI',\n",
       " 'Data Scientist- Remote,\\n\\nDivisions Maintenance Group,python,SQL,Jupyter,Tensorflow,Azure,BI',\n",
       " 'Senior Data Scientist- Machine Learning Scientist,\\nMedibio,python,excel,Scikit,Tensorflow,BI',\n",
       " 'Data Scientist 2,\\n\\nPRA Health Sciences,python,excel,BI',\n",
       " 'Data Analyst,\\n\\nGovernmentCIO LLC,python,SAS,BI',\n",
       " 'Data Analyst, Finance,\\n\\nkraken,python,SQL,Tableau,BI',\n",
       " 'Engineering Director, Data & Data Science,\\nBestow,excel,SAS,BI',\n",
       " 'Data Science Manager, Instagram Graph,\\n\\nFacebook,python,SQL,matlab,SAS,BI',\n",
       " 'Data Scientist, Analytics - Actor Integrity on Marketplace,\\n\\nFacebook,python,SQL,BI',\n",
       " 'Data Scientist-1,\\n\\nMattress Firm,BI',\n",
       " 'Data Analyst,\\n\\nIBM,python,SQL,excel,SAS,BI',\n",
       " 'Data Analyst,\\n\\nBabylist,python,SQL,excel,Jupyter,BI',\n",
       " 'Senior Data Analyst,\\n\\nkraken,python,SQL,Tableau,BI',\n",
       " 'Data Scientist - Everyday Health,\\nEveryday Health - Pregnancy & Parenting,python,SQL,BI',\n",
       " 'Data Scientist,\\nHarvest NYC,python,SQL,BI',\n",
       " 'Senior Data Analyst,\\n\\nZuora,SQL,excel,BI',\n",
       " 'Data Scientist, Risk and Fraud,\\n\\nEventbrite,python,SQL,BI',\n",
       " 'Director of Data & Analytics,\\n\\nTeamSnap, Inc.,python,SQL,Tableau,BI',\n",
       " 'Junior Business Analyst - Reporting & Data Insights,\\n\\nTeach For America,SQL,SAS,BI',\n",
       " 'Data Scientist,\\n\\nFlorida Blue,python, R ,SQL,SAS,BI',\n",
       " 'Data Science Manager - Marketplaces (Remote),\\n\\nYelp,BI',\n",
       " 'Data Scientist,\\nAlpha Net Consulting,python,BI',\n",
       " 'Manager - Data Analytics,\\nTDS,SQL,excel,SAS,Tableau,BI',\n",
       " 'Sr. Data Analyst (remote),\\n\\nAllWays Health Partners,SQL,excel,BI',\n",
       " 'Staff Data Scientist (Remote, Americas),\\n\\nShopify,python,Tableau,Matplotlib,BI',\n",
       " 'Data Scientist-1,\\n\\nMattress Firm,BI',\n",
       " 'Data Scientist,\\nQventus,python,SQL,excel,Scikit,BI',\n",
       " 'Site Payment Analyst (remote),\\n\\nIQVIA,BI',\n",
       " 'Senior Data Analyst,\\n\\nMighty,python,SQL,excel,Tableau,BI',\n",
       " 'Data Engineer,\\nRhino New York,python,SQL,BI',\n",
       " 'Data Engineering Co-op,\\n\\nKeurig Dr Pepper,python,SQL,excel,Tableau,Azure,BI',\n",
       " 'Senior Data Scientist,\\n\\nNVIDIA,python,excel,Tensorflow,BI',\n",
       " 'Data Scientist, Advertising Business Insights,\\n\\nSpotify,python,SQL,Tableau,BI',\n",
       " 'Data Scientist,\\n\\nInspire,python,SQL,excel,Jupyter,Scikit,nltk,BI',\n",
       " 'Data Science – Health Care Client Success Lead,\\nCowen, Inc,BI',\n",
       " 'Sr Manager, Data Science,\\n\\nAmazon Web Services, Inc.,excel,BI',\n",
       " 'Data Scientist,\\n\\nRealogy Holdings Corp,python,BI',\n",
       " 'Lead Data Scientist,\\nAtomic,SQL,Tensorflow,BI',\n",
       " 'Data Scientist - Shops Seller Ecosystem,\\n\\nFacebook,python, R ,SQL,BI',\n",
       " 'Senior Data Analyst-Marketing,\\n\\nKaiser Permanente,',\n",
       " 'Data Scientist, NLP Text Mining,\\n\\nDun & Bradstreet,python,SQL,BI',\n",
       " 'Data Scientist,\\nAlpha Net Consulting,python,BI',\n",
       " 'Senior Analyst Behavioral Science & Analytics,\\n\\nFlorida Blue,python, R ,SQL,excel,BI',\n",
       " 'Chief Technology Officer,\\n\\nLovepop,excel,BI',\n",
       " 'Financial Intelligence Unit Analyst, Novi,\\n\\nFacebook,SQL,excel,BI',\n",
       " 'Data Scientist (NLP),\\n\\nCM Group LLC,python,SQL,excel,Tensorflow,BI',\n",
       " 'Principal Data Scientist, Pricing R&D,\\n\\nRoot Insurance Company,SQL,BI',\n",
       " 'Remote Safety Data Scientist I,\\nRaland Compliance Partners,BI',\n",
       " 'Data Science Manager (Remote, Americas),\\n\\nShopify,python,Tableau,Matplotlib,BI',\n",
       " 'RESEARCH ASSOCIATE FOR ECONOMIC STUDIES,\\n\\nCato Institute,excel,BI',\n",
       " 'Data Analyst,\\n\\nIBM,python,SQL,excel,SAS,BI',\n",
       " 'Risk Analyst,\\nFast AF,python, R ,SQL,BI',\n",
       " 'Data Strategist,\\n\\nBabylist,python,SQL,excel,Jupyter,Tableau,BI',\n",
       " 'Data Engineer, Analytics,\\n\\nSpokeo,python,SQL,BI',\n",
       " 'Data Analyst - Financial Services,\\n\\nNumerator,excel,Tableau,BI',\n",
       " 'Senior Data Analyst,\\nTogo Group,python, R ,SQL,Tableau,BI',\n",
       " 'Full Stack React + Python Dev / AI Software (Remote),\\n\\nInvolve.ai,python,SQL,excel,SAS,BI',\n",
       " 'Insights Manager, Data & Insights Tribe,\\n\\nSpotify,BI',\n",
       " 'Director of Data & Analytics,\\n\\nTeamSnap, Inc.,python,SQL,Tableau,BI',\n",
       " 'Senior Data Scientist (Remote Sensing) - Sustainability,\\n\\nNutrien Ltd.,python, R ,matlab,Jupyter,Scikit,Tensorflow,BI',\n",
       " 'Senior Data Analyst, Early Childhood Development,\\n\\nChild Trends,excel,SAS,Tableau,ggplot,BI',\n",
       " 'Senior Data Analyst,\\nCuration Health,python,SQL,excel,Tableau,BI',\n",
       " 'Business Intelligence Analyst, Personalization,\\n\\nSpotify,python,SQL,Tableau,BI',\n",
       " 'Business Analyst (Remote),\\n33 Mile Radius,SQL,excel,Tableau,BI',\n",
       " 'Data Scientist,\\nAvantStay,python,SQL,SAS,BI',\n",
       " 'Senior Data Engineer,\\n\\nCredit Sesame,python,SQL,BI',\n",
       " 'Pricing Data Analyst - Telecommute,\\n\\nUnitedHealth Group,python, R ,SQL,excel,SAS,BI']"
      ]
     },
     "metadata": {},
     "execution_count": 19
    }
   ],
   "source": [
    "big_table"
   ]
  },
  {
   "cell_type": "code",
   "execution_count": 6,
   "metadata": {},
   "outputs": [],
   "source": [
    "cur_table = ['data scientist -Remote,\\n\\nStarbucks,python,SQL,BI',\n",
    " 'Part-Time Student-Smart Connected Factory/Data and Analytics-Remote Availability,\\n\\nJohn Deere,BI',\n",
    " 'Data Scientist, Podcasts,\\n\\nSpotify,python,SQL,excel,BI',\n",
    " 'Data Scientist,\\nIntelliGen Technologies,BI',\n",
    " 'Part Time Data Science Instructor,\\n\\nKaplan,python,excel,BI',\n",
    " 'Data Scientist (Part-Time, Remote),\\n\\nKBR,BI',\n",
    " 'Data Scientist (Remote),\\n\\nDeloitte,python,SQL,Tableau,BI',\n",
    " 'Data Scientist - Entry Level,\\nNumerdox,python, R ,BI',\n",
    " 'Senior Lecturer (Online Adjunct), MS Data Science, SBE,\\n\\nUniversity of Wisconsin- Superior,excel,BI',\n",
    " 'Data Scientist, Music Analytics,\\n\\nSpotify,python,SQL,Tableau,BI',\n",
    " 'Healthcare Data Analyst,\\nClarify Health Solutions.,SQL,BI',\n",
    " 'Data Scientist - Analytics,\\nAcorn Analytics,python,excel,Jupyter,Matplotlib,BI',\n",
    " 'Data Engineer, Analytics (Generalist),\\n\\nFacebook,python,SQL,BI',\n",
    " 'Data Analytics Associate (SAS),\\nClarify Health Solutions.,SQL,SAS,BI',\n",
    " 'Data Scientist - Analytics,\\nAcorn Analytics,python,excel,Jupyter,Matplotlib,BI',\n",
    " 'DATA ANALYST,\\n\\nUniversity of Washington,python, R ,SAS,BI',\n",
    " 'Data Scientist,\\n\\nKaplan,python,excel,BI',\n",
    " 'Part Time Data Science Instructor,\\n\\nKaplan,python,excel,BI',\n",
    " 'Healthcare Data Analyst,\\nAmino,python,SQL,BI',\n",
    " 'Director I, Data Science,\\n\\nLiberty Mutual Insurance,SQL,excel,SAS,BI',\n",
    " 'Data Scientist, Podcasts,\\n\\nSpotify,python,SQL,excel,BI',\n",
    " 'Director, Product Analytics and Data Science - Data Science,\\n\\nSlack,matlab,excel,BI',\n",
    " 'Data Scientist I,\\n\\nWindstream Communications,python,SQL,Jupyter,Tableau,BI',\n",
    " 'Data Engineer, Analytics (Generalist),\\n\\nFacebook,python,SQL,BI',\n",
    " 'Analyst I, Data Science,\\n\\nLiberty Mutual Insurance,python,SQL,SAS,BI',\n",
    " 'Sr. Data Science Assessment Developer,\\n\\nAlteryx, Inc.,BI',\n",
    " 'Early career data scientist / analyst / statistical geneticist,\\nData Tecnica,python,excel,BI',\n",
    " 'Data Scientist,\\nAvantStay,python,SQL,SAS,BI',\n",
    " 'Deep Learning Data Scientist,\\nLinus Health,python,BI',\n",
    " 'Data Science Manager, Analytics,\\n\\nFacebook,SQL,matlab,SAS,BI',\n",
    " 'Data Modeler,\\n\\nCognizant Technology Solutions,excel,BI',\n",
    " 'Data Scientist, AI / NLP,\\nHappify Health,python,Scikit,Tensorflow,BI',\n",
    " 'Data Engineering Co-op,\\n\\nKeurig Dr Pepper,python,SQL,excel,Tableau,Azure,BI',\n",
    " 'Online Adjunct Faculty - MBA Data Analytics,\\n\\nHerzing University,excel,BI',\n",
    " 'Data Scientist- Remote,\\n\\nDivisions Maintenance Group,python,SQL,Jupyter,Tensorflow,Azure,BI',\n",
    " 'Senior Data Scientist- Machine Learning Scientist,\\nMedibio,python,excel,Scikit,Tensorflow,BI',\n",
    " 'Data Scientist 2,\\n\\nPRA Health Sciences,python,excel,BI',\n",
    " 'Data Analyst,\\n\\nGovernmentCIO LLC,python,SAS,BI',\n",
    " 'Data Analyst, Finance,\\n\\nkraken,python,SQL,Tableau,BI',\n",
    " 'Engineering Director, Data & Data Science,\\nBestow,excel,SAS,BI',\n",
    " 'Data Science Manager, Instagram Graph,\\n\\nFacebook,python,SQL,matlab,SAS,BI',\n",
    " 'Data Scientist, Analytics - Actor Integrity on Marketplace,\\n\\nFacebook,python,SQL,BI',\n",
    " 'Data Scientist-1,\\n\\nMattress Firm,BI',\n",
    " 'Data Analyst,\\n\\nIBM,python,SQL,excel,SAS,BI',\n",
    " 'Data Analyst,\\n\\nBabylist,python,SQL,excel,Jupyter,BI',\n",
    " 'Senior Data Analyst,\\n\\nkraken,python,SQL,Tableau,BI',\n",
    " 'Data Scientist - Everyday Health,\\nEveryday Health - Pregnancy & Parenting,python,SQL,BI',\n",
    " 'Data Scientist,\\nHarvest NYC,python,SQL,BI',\n",
    " 'Senior Data Analyst,\\n\\nZuora,SQL,excel,BI',\n",
    " 'Data Scientist, Risk and Fraud,\\n\\nEventbrite,python,SQL,BI',\n",
    " 'Director of Data & Analytics,\\n\\nTeamSnap, Inc.,python,SQL,Tableau,BI',\n",
    " 'Junior Business Analyst - Reporting & Data Insights,\\n\\nTeach For America,SQL,SAS,BI',\n",
    " 'Data Scientist,\\n\\nFlorida Blue,python, R ,SQL,SAS,BI',\n",
    " 'Data Science Manager - Marketplaces (Remote),\\n\\nYelp,BI',\n",
    " 'Data Scientist,\\nAlpha Net Consulting,python,BI',\n",
    " 'Manager - Data Analytics,\\nTDS,SQL,excel,SAS,Tableau,BI',\n",
    " 'Sr. Data Analyst (remote),\\n\\nAllWays Health Partners,SQL,excel,BI',\n",
    " 'Staff Data Scientist (Remote, Americas),\\n\\nShopify,python,Tableau,Matplotlib,BI',\n",
    " 'Data Scientist-1,\\n\\nMattress Firm,BI',\n",
    " 'Data Scientist,\\nQventus,python,SQL,excel,Scikit,BI',\n",
    " 'Site Payment Analyst (remote),\\n\\nIQVIA,BI',\n",
    " 'Senior Data Analyst,\\n\\nMighty,python,SQL,excel,Tableau,BI',\n",
    " 'Data Engineer,\\nRhino New York,python,SQL,BI',\n",
    " 'Data Engineering Co-op,\\n\\nKeurig Dr Pepper,python,SQL,excel,Tableau,Azure,BI',\n",
    " 'Senior Data Scientist,\\n\\nNVIDIA,python,excel,Tensorflow,BI',\n",
    " 'Data Scientist, Advertising Business Insights,\\n\\nSpotify,python,SQL,Tableau,BI',\n",
    " 'Data Scientist,\\n\\nInspire,python,SQL,excel,Jupyter,Scikit,nltk,BI',\n",
    " 'Data Science – Health Care Client Success Lead,\\nCowen, Inc,BI',\n",
    " 'Sr Manager, Data Science,\\n\\nAmazon Web Services, Inc.,excel,BI',\n",
    " 'Data Scientist,\\n\\nRealogy Holdings Corp,python,BI',\n",
    " 'Lead Data Scientist,\\nAtomic,SQL,Tensorflow,BI',\n",
    " 'Data Scientist - Shops Seller Ecosystem,\\n\\nFacebook,python, R ,SQL,BI',\n",
    " 'Senior Data Analyst-Marketing,\\n\\nKaiser Permanente,',\n",
    " 'Data Scientist, NLP Text Mining,\\n\\nDun & Bradstreet,python,SQL,BI',\n",
    " 'Data Scientist,\\nAlpha Net Consulting,python,BI',\n",
    " 'Senior Analyst Behavioral Science & Analytics,\\n\\nFlorida Blue,python, R ,SQL,excel,BI',\n",
    " 'Chief Technology Officer,\\n\\nLovepop,excel,BI',\n",
    " 'Financial Intelligence Unit Analyst, Novi,\\n\\nFacebook,SQL,excel,BI',\n",
    " 'Data Scientist (NLP),\\n\\nCM Group LLC,python,SQL,excel,Tensorflow,BI',\n",
    " 'Principal Data Scientist, Pricing R&D,\\n\\nRoot Insurance Company,SQL,BI',\n",
    " 'Remote Safety Data Scientist I,\\nRaland Compliance Partners,BI',\n",
    " 'Data Science Manager (Remote, Americas),\\n\\nShopify,python,Tableau,Matplotlib,BI',\n",
    " 'RESEARCH ASSOCIATE FOR ECONOMIC STUDIES,\\n\\nCato Institute,excel,BI',\n",
    " 'Data Analyst,\\n\\nIBM,python,SQL,excel,SAS,BI',\n",
    " 'Risk Analyst,\\nFast AF,python, R ,SQL,BI',\n",
    " 'Data Strategist,\\n\\nBabylist,python,SQL,excel,Jupyter,Tableau,BI',\n",
    " 'Data Engineer, Analytics,\\n\\nSpokeo,python,SQL,BI',\n",
    " 'Data Analyst - Financial Services,\\n\\nNumerator,excel,Tableau,BI',\n",
    " 'Senior Data Analyst,\\nTogo Group,python, R ,SQL,Tableau,BI',\n",
    " 'Full Stack React + Python Dev / AI Software (Remote),\\n\\nInvolve.ai,python,SQL,excel,SAS,BI',\n",
    " 'Insights Manager, Data & Insights Tribe,\\n\\nSpotify,BI',\n",
    " 'Director of Data & Analytics,\\n\\nTeamSnap, Inc.,python,SQL,Tableau,BI',\n",
    " 'Senior Data Scientist (Remote Sensing) - Sustainability,\\n\\nNutrien Ltd.,python, R ,matlab,Jupyter,Scikit,Tensorflow,BI',\n",
    " 'Senior Data Analyst, Early Childhood Development,\\n\\nChild Trends,excel,SAS,Tableau,ggplot,BI',\n",
    " 'Senior Data Analyst,\\nCuration Health,python,SQL,excel,Tableau,BI',\n",
    " 'Business Intelligence Analyst, Personalization,\\n\\nSpotify,python,SQL,Tableau,BI',\n",
    " 'Business Analyst (Remote),\\n33 Mile Radius,SQL,excel,Tableau,BI',\n",
    " 'Data Scientist,\\nAvantStay,python,SQL,SAS,BI',\n",
    " 'Senior Data Engineer,\\n\\nCredit Sesame,python,SQL,BI',\n",
    " 'Pricing Data Analyst - Telecommute,\\n\\nUnitedHealth Group,python, R ,SQL,excel,SAS,BI']"
   ]
  },
  {
   "cell_type": "code",
   "execution_count": 8,
   "metadata": {},
   "outputs": [
    {
     "output_type": "stream",
     "name": "stdout",
     "text": [
      "data scientist -Remote,Starbucks,python,SQL,BI\nPart-Time Student-Smart Connected Factory/Data and Analytics-Remote Availability,John Deere,BI\nData Scientist, Podcasts,Spotify,python,SQL,excel,BI\nData Scientist,IntelliGen Technologies,BI\nPart Time Data Science Instructor,Kaplan,python,excel,BI\nData Scientist (Part-Time, Remote),KBR,BI\nData Scientist (Remote),Deloitte,python,SQL,Tableau,BI\nData Scientist - Entry Level,Numerdox,python, R ,BI\nSenior Lecturer (Online Adjunct), MS Data Science, SBE,University of Wisconsin- Superior,excel,BI\nData Scientist, Music Analytics,Spotify,python,SQL,Tableau,BI\nHealthcare Data Analyst,Clarify Health Solutions.,SQL,BI\nData Scientist - Analytics,Acorn Analytics,python,excel,Jupyter,Matplotlib,BI\nData Engineer, Analytics (Generalist),Facebook,python,SQL,BI\nData Analytics Associate (SAS),Clarify Health Solutions.,SQL,SAS,BI\nData Scientist - Analytics,Acorn Analytics,python,excel,Jupyter,Matplotlib,BI\nDATA ANALYST,University of Washington,python, R ,SAS,BI\nData Scientist,Kaplan,python,excel,BI\nPart Time Data Science Instructor,Kaplan,python,excel,BI\nHealthcare Data Analyst,Amino,python,SQL,BI\nDirector I, Data Science,Liberty Mutual Insurance,SQL,excel,SAS,BI\nData Scientist, Podcasts,Spotify,python,SQL,excel,BI\nDirector, Product Analytics and Data Science - Data Science,Slack,matlab,excel,BI\nData Scientist I,Windstream Communications,python,SQL,Jupyter,Tableau,BI\nData Engineer, Analytics (Generalist),Facebook,python,SQL,BI\nAnalyst I, Data Science,Liberty Mutual Insurance,python,SQL,SAS,BI\nSr. Data Science Assessment Developer,Alteryx, Inc.,BI\nEarly career data scientist / analyst / statistical geneticist,Data Tecnica,python,excel,BI\nData Scientist,AvantStay,python,SQL,SAS,BI\nDeep Learning Data Scientist,Linus Health,python,BI\nData Science Manager, Analytics,Facebook,SQL,matlab,SAS,BI\nData Modeler,Cognizant Technology Solutions,excel,BI\nData Scientist, AI / NLP,Happify Health,python,Scikit,Tensorflow,BI\nData Engineering Co-op,Keurig Dr Pepper,python,SQL,excel,Tableau,Azure,BI\nOnline Adjunct Faculty - MBA Data Analytics,Herzing University,excel,BI\nData Scientist- Remote,Divisions Maintenance Group,python,SQL,Jupyter,Tensorflow,Azure,BI\nSenior Data Scientist- Machine Learning Scientist,Medibio,python,excel,Scikit,Tensorflow,BI\nData Scientist 2,PRA Health Sciences,python,excel,BI\nData Analyst,GovernmentCIO LLC,python,SAS,BI\nData Analyst, Finance,kraken,python,SQL,Tableau,BI\nEngineering Director, Data & Data Science,Bestow,excel,SAS,BI\nData Science Manager, Instagram Graph,Facebook,python,SQL,matlab,SAS,BI\nData Scientist, Analytics - Actor Integrity on Marketplace,Facebook,python,SQL,BI\nData Scientist-1,Mattress Firm,BI\nData Analyst,IBM,python,SQL,excel,SAS,BI\nData Analyst,Babylist,python,SQL,excel,Jupyter,BI\nSenior Data Analyst,kraken,python,SQL,Tableau,BI\nData Scientist - Everyday Health,Everyday Health - Pregnancy & Parenting,python,SQL,BI\nData Scientist,Harvest NYC,python,SQL,BI\nSenior Data Analyst,Zuora,SQL,excel,BI\nData Scientist, Risk and Fraud,Eventbrite,python,SQL,BI\nDirector of Data & Analytics,TeamSnap, Inc.,python,SQL,Tableau,BI\nJunior Business Analyst - Reporting & Data Insights,Teach For America,SQL,SAS,BI\nData Scientist,Florida Blue,python, R ,SQL,SAS,BI\nData Science Manager - Marketplaces (Remote),Yelp,BI\nData Scientist,Alpha Net Consulting,python,BI\nManager - Data Analytics,TDS,SQL,excel,SAS,Tableau,BI\nSr. Data Analyst (remote),AllWays Health Partners,SQL,excel,BI\nStaff Data Scientist (Remote, Americas),Shopify,python,Tableau,Matplotlib,BI\nData Scientist-1,Mattress Firm,BI\nData Scientist,Qventus,python,SQL,excel,Scikit,BI\nSite Payment Analyst (remote),IQVIA,BI\nSenior Data Analyst,Mighty,python,SQL,excel,Tableau,BI\nData Engineer,Rhino New York,python,SQL,BI\nData Engineering Co-op,Keurig Dr Pepper,python,SQL,excel,Tableau,Azure,BI\nSenior Data Scientist,NVIDIA,python,excel,Tensorflow,BI\nData Scientist, Advertising Business Insights,Spotify,python,SQL,Tableau,BI\nData Scientist,Inspire,python,SQL,excel,Jupyter,Scikit,nltk,BI\nData Science – Health Care Client Success Lead,Cowen, Inc,BI\nSr Manager, Data Science,Amazon Web Services, Inc.,excel,BI\nData Scientist,Realogy Holdings Corp,python,BI\nLead Data Scientist,Atomic,SQL,Tensorflow,BI\nData Scientist - Shops Seller Ecosystem,Facebook,python, R ,SQL,BI\nSenior Data Analyst-Marketing,Kaiser Permanente,\nData Scientist, NLP Text Mining,Dun & Bradstreet,python,SQL,BI\nData Scientist,Alpha Net Consulting,python,BI\nSenior Analyst Behavioral Science & Analytics,Florida Blue,python, R ,SQL,excel,BI\nChief Technology Officer,Lovepop,excel,BI\nFinancial Intelligence Unit Analyst, Novi,Facebook,SQL,excel,BI\nData Scientist (NLP),CM Group LLC,python,SQL,excel,Tensorflow,BI\nPrincipal Data Scientist, Pricing R&D,Root Insurance Company,SQL,BI\nRemote Safety Data Scientist I,Raland Compliance Partners,BI\nData Science Manager (Remote, Americas),Shopify,python,Tableau,Matplotlib,BI\nRESEARCH ASSOCIATE FOR ECONOMIC STUDIES,Cato Institute,excel,BI\nData Analyst,IBM,python,SQL,excel,SAS,BI\nRisk Analyst,Fast AF,python, R ,SQL,BI\nData Strategist,Babylist,python,SQL,excel,Jupyter,Tableau,BI\nData Engineer, Analytics,Spokeo,python,SQL,BI\nData Analyst - Financial Services,Numerator,excel,Tableau,BI\nSenior Data Analyst,Togo Group,python, R ,SQL,Tableau,BI\nFull Stack React + Python Dev / AI Software (Remote),Involve.ai,python,SQL,excel,SAS,BI\nInsights Manager, Data & Insights Tribe,Spotify,BI\nDirector of Data & Analytics,TeamSnap, Inc.,python,SQL,Tableau,BI\nSenior Data Scientist (Remote Sensing) - Sustainability,Nutrien Ltd.,python, R ,matlab,Jupyter,Scikit,Tensorflow,BI\nSenior Data Analyst, Early Childhood Development,Child Trends,excel,SAS,Tableau,ggplot,BI\nSenior Data Analyst,Curation Health,python,SQL,excel,Tableau,BI\nBusiness Intelligence Analyst, Personalization,Spotify,python,SQL,Tableau,BI\nBusiness Analyst (Remote),33 Mile Radius,SQL,excel,Tableau,BI\nData Scientist,AvantStay,python,SQL,SAS,BI\nSenior Data Engineer,Credit Sesame,python,SQL,BI\nPricing Data Analyst - Telecommute,UnitedHealth Group,python, R ,SQL,excel,SAS,BI\n"
     ]
    }
   ],
   "source": [
    "\"\"\" cell for processing and creating the spreadsheet and analysis\"\"\"\n",
    "for i in range(0, len(cur_table)):\n",
    "    cur_table[i] = cur_table[i].replace(\"\\n\", \"\")\n",
    "    print(cur_table[i])\n"
   ]
  },
  {
   "cell_type": "code",
   "execution_count": 13,
   "metadata": {},
   "outputs": [
    {
     "output_type": "stream",
     "name": "stdout",
     "text": [
      "{'job_title': 0, 'company_name': 1, 'python': 2, ' R ': 3, 'SQL': 4, 'D3.js': 5, 'matlab': 6, 'excel': 7, 'SAS': 8, 'BigML': 9, 'Apache Spark': 10, 'Jupyter': 11, 'Tableau': 12, 'Scikit': 13, 'Tensorflow': 14, 'Weka': 15, 'Matplotlib': 16, 'ggplot': 17, 'nltk': 18, 'Azure': 19, 'BI': 20}\n"
     ]
    }
   ],
   "source": [
    "\"\"\" put data into csv\"\"\"\n",
    "\n",
    "comma=\",\"\n",
    "cols = [\"job_title\", \"company_name\"] + tools_to_find\n",
    "# make dictionary to get tool name to index in row\n",
    "tool_dct = {}\n",
    "for i in range(len(cols)):\n",
    "    tool_dct[cols[i]] = i\n",
    "print(tool_dct)"
   ]
  },
  {
   "cell_type": "code",
   "execution_count": 10,
   "metadata": {},
   "outputs": [
    {
     "output_type": "execute_result",
     "data": {
      "text/plain": [
       "['data scientist -Remote,Starbucks,python,SQL,BI',\n",
       " 'Part-Time Student-Smart Connected Factory/Data and Analytics-Remote Availability,John Deere,BI',\n",
       " 'Data Scientist, Podcasts,Spotify,python,SQL,excel,BI',\n",
       " 'Data Scientist,IntelliGen Technologies,BI',\n",
       " 'Part Time Data Science Instructor,Kaplan,python,excel,BI',\n",
       " 'Data Scientist (Part-Time, Remote),KBR,BI',\n",
       " 'Data Scientist (Remote),Deloitte,python,SQL,Tableau,BI',\n",
       " 'Data Scientist - Entry Level,Numerdox,python, R ,BI',\n",
       " 'Senior Lecturer (Online Adjunct), MS Data Science, SBE,University of Wisconsin- Superior,excel,BI',\n",
       " 'Data Scientist, Music Analytics,Spotify,python,SQL,Tableau,BI',\n",
       " 'Healthcare Data Analyst,Clarify Health Solutions.,SQL,BI',\n",
       " 'Data Scientist - Analytics,Acorn Analytics,python,excel,Jupyter,Matplotlib,BI',\n",
       " 'Data Engineer, Analytics (Generalist),Facebook,python,SQL,BI',\n",
       " 'Data Analytics Associate (SAS),Clarify Health Solutions.,SQL,SAS,BI',\n",
       " 'Data Scientist - Analytics,Acorn Analytics,python,excel,Jupyter,Matplotlib,BI',\n",
       " 'DATA ANALYST,University of Washington,python, R ,SAS,BI',\n",
       " 'Data Scientist,Kaplan,python,excel,BI',\n",
       " 'Part Time Data Science Instructor,Kaplan,python,excel,BI',\n",
       " 'Healthcare Data Analyst,Amino,python,SQL,BI',\n",
       " 'Director I, Data Science,Liberty Mutual Insurance,SQL,excel,SAS,BI',\n",
       " 'Data Scientist, Podcasts,Spotify,python,SQL,excel,BI',\n",
       " 'Director, Product Analytics and Data Science - Data Science,Slack,matlab,excel,BI',\n",
       " 'Data Scientist I,Windstream Communications,python,SQL,Jupyter,Tableau,BI',\n",
       " 'Data Engineer, Analytics (Generalist),Facebook,python,SQL,BI',\n",
       " 'Analyst I, Data Science,Liberty Mutual Insurance,python,SQL,SAS,BI',\n",
       " 'Sr. Data Science Assessment Developer,Alteryx, Inc.,BI',\n",
       " 'Early career data scientist / analyst / statistical geneticist,Data Tecnica,python,excel,BI',\n",
       " 'Data Scientist,AvantStay,python,SQL,SAS,BI',\n",
       " 'Deep Learning Data Scientist,Linus Health,python,BI',\n",
       " 'Data Science Manager, Analytics,Facebook,SQL,matlab,SAS,BI',\n",
       " 'Data Modeler,Cognizant Technology Solutions,excel,BI',\n",
       " 'Data Scientist, AI / NLP,Happify Health,python,Scikit,Tensorflow,BI',\n",
       " 'Data Engineering Co-op,Keurig Dr Pepper,python,SQL,excel,Tableau,Azure,BI',\n",
       " 'Online Adjunct Faculty - MBA Data Analytics,Herzing University,excel,BI',\n",
       " 'Data Scientist- Remote,Divisions Maintenance Group,python,SQL,Jupyter,Tensorflow,Azure,BI',\n",
       " 'Senior Data Scientist- Machine Learning Scientist,Medibio,python,excel,Scikit,Tensorflow,BI',\n",
       " 'Data Scientist 2,PRA Health Sciences,python,excel,BI',\n",
       " 'Data Analyst,GovernmentCIO LLC,python,SAS,BI',\n",
       " 'Data Analyst, Finance,kraken,python,SQL,Tableau,BI',\n",
       " 'Engineering Director, Data & Data Science,Bestow,excel,SAS,BI',\n",
       " 'Data Science Manager, Instagram Graph,Facebook,python,SQL,matlab,SAS,BI',\n",
       " 'Data Scientist, Analytics - Actor Integrity on Marketplace,Facebook,python,SQL,BI',\n",
       " 'Data Scientist-1,Mattress Firm,BI',\n",
       " 'Data Analyst,IBM,python,SQL,excel,SAS,BI',\n",
       " 'Data Analyst,Babylist,python,SQL,excel,Jupyter,BI',\n",
       " 'Senior Data Analyst,kraken,python,SQL,Tableau,BI',\n",
       " 'Data Scientist - Everyday Health,Everyday Health - Pregnancy & Parenting,python,SQL,BI',\n",
       " 'Data Scientist,Harvest NYC,python,SQL,BI',\n",
       " 'Senior Data Analyst,Zuora,SQL,excel,BI',\n",
       " 'Data Scientist, Risk and Fraud,Eventbrite,python,SQL,BI',\n",
       " 'Director of Data & Analytics,TeamSnap, Inc.,python,SQL,Tableau,BI',\n",
       " 'Junior Business Analyst - Reporting & Data Insights,Teach For America,SQL,SAS,BI',\n",
       " 'Data Scientist,Florida Blue,python, R ,SQL,SAS,BI',\n",
       " 'Data Science Manager - Marketplaces (Remote),Yelp,BI',\n",
       " 'Data Scientist,Alpha Net Consulting,python,BI',\n",
       " 'Manager - Data Analytics,TDS,SQL,excel,SAS,Tableau,BI',\n",
       " 'Sr. Data Analyst (remote),AllWays Health Partners,SQL,excel,BI',\n",
       " 'Staff Data Scientist (Remote, Americas),Shopify,python,Tableau,Matplotlib,BI',\n",
       " 'Data Scientist-1,Mattress Firm,BI',\n",
       " 'Data Scientist,Qventus,python,SQL,excel,Scikit,BI',\n",
       " 'Site Payment Analyst (remote),IQVIA,BI',\n",
       " 'Senior Data Analyst,Mighty,python,SQL,excel,Tableau,BI',\n",
       " 'Data Engineer,Rhino New York,python,SQL,BI',\n",
       " 'Data Engineering Co-op,Keurig Dr Pepper,python,SQL,excel,Tableau,Azure,BI',\n",
       " 'Senior Data Scientist,NVIDIA,python,excel,Tensorflow,BI',\n",
       " 'Data Scientist, Advertising Business Insights,Spotify,python,SQL,Tableau,BI',\n",
       " 'Data Scientist,Inspire,python,SQL,excel,Jupyter,Scikit,nltk,BI',\n",
       " 'Data Science – Health Care Client Success Lead,Cowen, Inc,BI',\n",
       " 'Sr Manager, Data Science,Amazon Web Services, Inc.,excel,BI',\n",
       " 'Data Scientist,Realogy Holdings Corp,python,BI',\n",
       " 'Lead Data Scientist,Atomic,SQL,Tensorflow,BI',\n",
       " 'Data Scientist - Shops Seller Ecosystem,Facebook,python, R ,SQL,BI',\n",
       " 'Senior Data Analyst-Marketing,Kaiser Permanente,',\n",
       " 'Data Scientist, NLP Text Mining,Dun & Bradstreet,python,SQL,BI',\n",
       " 'Data Scientist,Alpha Net Consulting,python,BI',\n",
       " 'Senior Analyst Behavioral Science & Analytics,Florida Blue,python, R ,SQL,excel,BI',\n",
       " 'Chief Technology Officer,Lovepop,excel,BI',\n",
       " 'Financial Intelligence Unit Analyst, Novi,Facebook,SQL,excel,BI',\n",
       " 'Data Scientist (NLP),CM Group LLC,python,SQL,excel,Tensorflow,BI',\n",
       " 'Principal Data Scientist, Pricing R&D,Root Insurance Company,SQL,BI',\n",
       " 'Remote Safety Data Scientist I,Raland Compliance Partners,BI',\n",
       " 'Data Science Manager (Remote, Americas),Shopify,python,Tableau,Matplotlib,BI',\n",
       " 'RESEARCH ASSOCIATE FOR ECONOMIC STUDIES,Cato Institute,excel,BI',\n",
       " 'Data Analyst,IBM,python,SQL,excel,SAS,BI',\n",
       " 'Risk Analyst,Fast AF,python, R ,SQL,BI',\n",
       " 'Data Strategist,Babylist,python,SQL,excel,Jupyter,Tableau,BI',\n",
       " 'Data Engineer, Analytics,Spokeo,python,SQL,BI',\n",
       " 'Data Analyst - Financial Services,Numerator,excel,Tableau,BI',\n",
       " 'Senior Data Analyst,Togo Group,python, R ,SQL,Tableau,BI',\n",
       " 'Full Stack React + Python Dev / AI Software (Remote),Involve.ai,python,SQL,excel,SAS,BI',\n",
       " 'Insights Manager, Data & Insights Tribe,Spotify,BI',\n",
       " 'Director of Data & Analytics,TeamSnap, Inc.,python,SQL,Tableau,BI',\n",
       " 'Senior Data Scientist (Remote Sensing) - Sustainability,Nutrien Ltd.,python, R ,matlab,Jupyter,Scikit,Tensorflow,BI',\n",
       " 'Senior Data Analyst, Early Childhood Development,Child Trends,excel,SAS,Tableau,ggplot,BI',\n",
       " 'Senior Data Analyst,Curation Health,python,SQL,excel,Tableau,BI',\n",
       " 'Business Intelligence Analyst, Personalization,Spotify,python,SQL,Tableau,BI',\n",
       " 'Business Analyst (Remote),33 Mile Radius,SQL,excel,Tableau,BI',\n",
       " 'Data Scientist,AvantStay,python,SQL,SAS,BI',\n",
       " 'Senior Data Engineer,Credit Sesame,python,SQL,BI',\n",
       " 'Pricing Data Analyst - Telecommute,UnitedHealth Group,python, R ,SQL,excel,SAS,BI']"
      ]
     },
     "metadata": {},
     "execution_count": 10
    }
   ],
   "source": [
    "cur_table"
   ]
  },
  {
   "cell_type": "code",
   "execution_count": 14,
   "metadata": {},
   "outputs": [
    {
     "output_type": "stream",
     "name": "stdout",
     "text": [
      "cur_list: \n['data scientist -Remote', 'Starbucks', 'python', 'SQL', 'BI']\nret_l: \n['data scientist -Remote', 'Starbucks', 1, 0, 1, 0, 0, 0, 0, 0, 0, 0, 0, 0, 0, 0, 0, 0, 0, 0, 1]\n\n\ncur_list: \n['Part-Time Student-Smart Connected Factory/Data and Analytics-Remote Availability', 'John Deere', 'BI']\nret_l: \n['Part-Time Student-Smart Connected Factory/Data and Analytics-Remote Availability', 'John Deere', 0, 0, 0, 0, 0, 0, 0, 0, 0, 0, 0, 0, 0, 0, 0, 0, 0, 0, 1]\n\n\ncur_list: \n['Data Scientist', ' Podcasts', 'Spotify', 'python', 'SQL', 'excel', 'BI']\nret_l: \n['Data Scientist', ' Podcasts_Spotify', 1, 0, 1, 0, 0, 1, 0, 0, 0, 0, 0, 0, 0, 0, 0, 0, 0, 0, 1]\n\n\ncur_list: \n['Data Scientist', 'IntelliGen Technologies', 'BI']\nret_l: \n['Data Scientist', 'IntelliGen Technologies', 0, 0, 0, 0, 0, 0, 0, 0, 0, 0, 0, 0, 0, 0, 0, 0, 0, 0, 1]\n\n\ncur_list: \n['Part Time Data Science Instructor', 'Kaplan', 'python', 'excel', 'BI']\nret_l: \n['Part Time Data Science Instructor', 'Kaplan', 1, 0, 0, 0, 0, 1, 0, 0, 0, 0, 0, 0, 0, 0, 0, 0, 0, 0, 1]\n\n\ncur_list: \n['Data Scientist (Part-Time', ' Remote)', 'KBR', 'BI']\nret_l: \n['Data Scientist (Part-Time', ' Remote)_KBR', 0, 0, 0, 0, 0, 0, 0, 0, 0, 0, 0, 0, 0, 0, 0, 0, 0, 0, 1]\n\n\ncur_list: \n['Data Scientist (Remote)', 'Deloitte', 'python', 'SQL', 'Tableau', 'BI']\nret_l: \n['Data Scientist (Remote)', 'Deloitte', 1, 0, 1, 0, 0, 0, 0, 0, 0, 0, 1, 0, 0, 0, 0, 0, 0, 0, 1]\n\n\ncur_list: \n['Data Scientist - Entry Level', 'Numerdox', 'python', ' R ', 'BI']\nret_l: \n['Data Scientist - Entry Level', 'Numerdox', 1, 1, 0, 0, 0, 0, 0, 0, 0, 0, 0, 0, 0, 0, 0, 0, 0, 0, 1]\n\n\ncur_list: \n['Senior Lecturer (Online Adjunct)', ' MS Data Science', ' SBE', 'University of Wisconsin- Superior', 'excel', 'BI']\nret_l: \n['Senior Lecturer (Online Adjunct)', ' MS Data Science_ SBE_University of Wisconsin- Superior', 0, 0, 0, 0, 0, 1, 0, 0, 0, 0, 0, 0, 0, 0, 0, 0, 0, 0, 1]\n\n\ncur_list: \n['Data Scientist', ' Music Analytics', 'Spotify', 'python', 'SQL', 'Tableau', 'BI']\nret_l: \n['Data Scientist', ' Music Analytics_Spotify', 1, 0, 1, 0, 0, 0, 0, 0, 0, 0, 1, 0, 0, 0, 0, 0, 0, 0, 1]\n\n\ncur_list: \n['Healthcare Data Analyst', 'Clarify Health Solutions.', 'SQL', 'BI']\nret_l: \n['Healthcare Data Analyst', 'Clarify Health Solutions.', 0, 0, 1, 0, 0, 0, 0, 0, 0, 0, 0, 0, 0, 0, 0, 0, 0, 0, 1]\n\n\ncur_list: \n['Data Scientist - Analytics', 'Acorn Analytics', 'python', 'excel', 'Jupyter', 'Matplotlib', 'BI']\nret_l: \n['Data Scientist - Analytics', 'Acorn Analytics', 1, 0, 0, 0, 0, 1, 0, 0, 0, 1, 0, 0, 0, 0, 1, 0, 0, 0, 1]\n\n\ncur_list: \n['Data Engineer', ' Analytics (Generalist)', 'Facebook', 'python', 'SQL', 'BI']\nret_l: \n['Data Engineer', ' Analytics (Generalist)_Facebook', 1, 0, 1, 0, 0, 0, 0, 0, 0, 0, 0, 0, 0, 0, 0, 0, 0, 0, 1]\n\n\ncur_list: \n['Data Analytics Associate (SAS)', 'Clarify Health Solutions.', 'SQL', 'SAS', 'BI']\nret_l: \n['Data Analytics Associate (SAS)', 'Clarify Health Solutions.', 0, 0, 1, 0, 0, 0, 1, 0, 0, 0, 0, 0, 0, 0, 0, 0, 0, 0, 1]\n\n\ncur_list: \n['Data Scientist - Analytics', 'Acorn Analytics', 'python', 'excel', 'Jupyter', 'Matplotlib', 'BI']\nret_l: \n['Data Scientist - Analytics', 'Acorn Analytics', 1, 0, 0, 0, 0, 1, 0, 0, 0, 1, 0, 0, 0, 0, 1, 0, 0, 0, 1]\n\n\ncur_list: \n['DATA ANALYST', 'University of Washington', 'python', ' R ', 'SAS', 'BI']\nret_l: \n['DATA ANALYST', 'University of Washington', 1, 1, 0, 0, 0, 0, 1, 0, 0, 0, 0, 0, 0, 0, 0, 0, 0, 0, 1]\n\n\ncur_list: \n['Data Scientist', 'Kaplan', 'python', 'excel', 'BI']\nret_l: \n['Data Scientist', 'Kaplan', 1, 0, 0, 0, 0, 1, 0, 0, 0, 0, 0, 0, 0, 0, 0, 0, 0, 0, 1]\n\n\ncur_list: \n['Part Time Data Science Instructor', 'Kaplan', 'python', 'excel', 'BI']\nret_l: \n['Part Time Data Science Instructor', 'Kaplan', 1, 0, 0, 0, 0, 1, 0, 0, 0, 0, 0, 0, 0, 0, 0, 0, 0, 0, 1]\n\n\ncur_list: \n['Healthcare Data Analyst', 'Amino', 'python', 'SQL', 'BI']\nret_l: \n['Healthcare Data Analyst', 'Amino', 1, 0, 1, 0, 0, 0, 0, 0, 0, 0, 0, 0, 0, 0, 0, 0, 0, 0, 1]\n\n\ncur_list: \n['Director I', ' Data Science', 'Liberty Mutual Insurance', 'SQL', 'excel', 'SAS', 'BI']\nret_l: \n['Director I', ' Data Science_Liberty Mutual Insurance', 0, 0, 1, 0, 0, 1, 1, 0, 0, 0, 0, 0, 0, 0, 0, 0, 0, 0, 1]\n\n\ncur_list: \n['Data Scientist', ' Podcasts', 'Spotify', 'python', 'SQL', 'excel', 'BI']\nret_l: \n['Data Scientist', ' Podcasts_Spotify', 1, 0, 1, 0, 0, 1, 0, 0, 0, 0, 0, 0, 0, 0, 0, 0, 0, 0, 1]\n\n\ncur_list: \n['Director', ' Product Analytics and Data Science - Data Science', 'Slack', 'matlab', 'excel', 'BI']\nret_l: \n['Director', ' Product Analytics and Data Science - Data Science_Slack', 0, 0, 0, 0, 1, 1, 0, 0, 0, 0, 0, 0, 0, 0, 0, 0, 0, 0, 1]\n\n\ncur_list: \n['Data Scientist I', 'Windstream Communications', 'python', 'SQL', 'Jupyter', 'Tableau', 'BI']\nret_l: \n['Data Scientist I', 'Windstream Communications', 1, 0, 1, 0, 0, 0, 0, 0, 0, 1, 1, 0, 0, 0, 0, 0, 0, 0, 1]\n\n\ncur_list: \n['Data Engineer', ' Analytics (Generalist)', 'Facebook', 'python', 'SQL', 'BI']\nret_l: \n['Data Engineer', ' Analytics (Generalist)_Facebook', 1, 0, 1, 0, 0, 0, 0, 0, 0, 0, 0, 0, 0, 0, 0, 0, 0, 0, 1]\n\n\ncur_list: \n['Analyst I', ' Data Science', 'Liberty Mutual Insurance', 'python', 'SQL', 'SAS', 'BI']\nret_l: \n['Analyst I', ' Data Science_Liberty Mutual Insurance', 1, 0, 1, 0, 0, 0, 1, 0, 0, 0, 0, 0, 0, 0, 0, 0, 0, 0, 1]\n\n\ncur_list: \n['Sr. Data Science Assessment Developer', 'Alteryx', ' Inc.', 'BI']\nret_l: \n['Sr. Data Science Assessment Developer', 'Alteryx_ Inc.', 0, 0, 0, 0, 0, 0, 0, 0, 0, 0, 0, 0, 0, 0, 0, 0, 0, 0, 1]\n\n\ncur_list: \n['Early career data scientist / analyst / statistical geneticist', 'Data Tecnica', 'python', 'excel', 'BI']\nret_l: \n['Early career data scientist / analyst / statistical geneticist', 'Data Tecnica', 1, 0, 0, 0, 0, 1, 0, 0, 0, 0, 0, 0, 0, 0, 0, 0, 0, 0, 1]\n\n\ncur_list: \n['Data Scientist', 'AvantStay', 'python', 'SQL', 'SAS', 'BI']\nret_l: \n['Data Scientist', 'AvantStay', 1, 0, 1, 0, 0, 0, 1, 0, 0, 0, 0, 0, 0, 0, 0, 0, 0, 0, 1]\n\n\ncur_list: \n['Deep Learning Data Scientist', 'Linus Health', 'python', 'BI']\nret_l: \n['Deep Learning Data Scientist', 'Linus Health', 1, 0, 0, 0, 0, 0, 0, 0, 0, 0, 0, 0, 0, 0, 0, 0, 0, 0, 1]\n\n\ncur_list: \n['Data Science Manager', ' Analytics', 'Facebook', 'SQL', 'matlab', 'SAS', 'BI']\nret_l: \n['Data Science Manager', ' Analytics_Facebook', 0, 0, 1, 0, 1, 0, 1, 0, 0, 0, 0, 0, 0, 0, 0, 0, 0, 0, 1]\n\n\ncur_list: \n['Data Modeler', 'Cognizant Technology Solutions', 'excel', 'BI']\nret_l: \n['Data Modeler', 'Cognizant Technology Solutions', 0, 0, 0, 0, 0, 1, 0, 0, 0, 0, 0, 0, 0, 0, 0, 0, 0, 0, 1]\n\n\ncur_list: \n['Data Scientist', ' AI / NLP', 'Happify Health', 'python', 'Scikit', 'Tensorflow', 'BI']\nret_l: \n['Data Scientist', ' AI / NLP_Happify Health', 1, 0, 0, 0, 0, 0, 0, 0, 0, 0, 0, 1, 1, 0, 0, 0, 0, 0, 1]\n\n\ncur_list: \n['Data Engineering Co-op', 'Keurig Dr Pepper', 'python', 'SQL', 'excel', 'Tableau', 'Azure', 'BI']\nret_l: \n['Data Engineering Co-op', 'Keurig Dr Pepper', 1, 0, 1, 0, 0, 1, 0, 0, 0, 0, 1, 0, 0, 0, 0, 0, 0, 1, 1]\n\n\ncur_list: \n['Online Adjunct Faculty - MBA Data Analytics', 'Herzing University', 'excel', 'BI']\nret_l: \n['Online Adjunct Faculty - MBA Data Analytics', 'Herzing University', 0, 0, 0, 0, 0, 1, 0, 0, 0, 0, 0, 0, 0, 0, 0, 0, 0, 0, 1]\n\n\ncur_list: \n['Data Scientist- Remote', 'Divisions Maintenance Group', 'python', 'SQL', 'Jupyter', 'Tensorflow', 'Azure', 'BI']\nret_l: \n['Data Scientist- Remote', 'Divisions Maintenance Group', 1, 0, 1, 0, 0, 0, 0, 0, 0, 1, 0, 0, 1, 0, 0, 0, 0, 1, 1]\n\n\ncur_list: \n['Senior Data Scientist- Machine Learning Scientist', 'Medibio', 'python', 'excel', 'Scikit', 'Tensorflow', 'BI']\nret_l: \n['Senior Data Scientist- Machine Learning Scientist', 'Medibio', 1, 0, 0, 0, 0, 1, 0, 0, 0, 0, 0, 1, 1, 0, 0, 0, 0, 0, 1]\n\n\ncur_list: \n['Data Scientist 2', 'PRA Health Sciences', 'python', 'excel', 'BI']\nret_l: \n['Data Scientist 2', 'PRA Health Sciences', 1, 0, 0, 0, 0, 1, 0, 0, 0, 0, 0, 0, 0, 0, 0, 0, 0, 0, 1]\n\n\ncur_list: \n['Data Analyst', 'GovernmentCIO LLC', 'python', 'SAS', 'BI']\nret_l: \n['Data Analyst', 'GovernmentCIO LLC', 1, 0, 0, 0, 0, 0, 1, 0, 0, 0, 0, 0, 0, 0, 0, 0, 0, 0, 1]\n\n\ncur_list: \n['Data Analyst', ' Finance', 'kraken', 'python', 'SQL', 'Tableau', 'BI']\nret_l: \n['Data Analyst', ' Finance_kraken', 1, 0, 1, 0, 0, 0, 0, 0, 0, 0, 1, 0, 0, 0, 0, 0, 0, 0, 1]\n\n\ncur_list: \n['Engineering Director', ' Data & Data Science', 'Bestow', 'excel', 'SAS', 'BI']\nret_l: \n['Engineering Director', ' Data & Data Science_Bestow', 0, 0, 0, 0, 0, 1, 1, 0, 0, 0, 0, 0, 0, 0, 0, 0, 0, 0, 1]\n\n\ncur_list: \n['Data Science Manager', ' Instagram Graph', 'Facebook', 'python', 'SQL', 'matlab', 'SAS', 'BI']\nret_l: \n['Data Science Manager', ' Instagram Graph_Facebook', 1, 0, 1, 0, 1, 0, 1, 0, 0, 0, 0, 0, 0, 0, 0, 0, 0, 0, 1]\n\n\ncur_list: \n['Data Scientist', ' Analytics - Actor Integrity on Marketplace', 'Facebook', 'python', 'SQL', 'BI']\nret_l: \n['Data Scientist', ' Analytics - Actor Integrity on Marketplace_Facebook', 1, 0, 1, 0, 0, 0, 0, 0, 0, 0, 0, 0, 0, 0, 0, 0, 0, 0, 1]\n\n\ncur_list: \n['Data Scientist-1', 'Mattress Firm', 'BI']\nret_l: \n['Data Scientist-1', 'Mattress Firm', 0, 0, 0, 0, 0, 0, 0, 0, 0, 0, 0, 0, 0, 0, 0, 0, 0, 0, 1]\n\n\ncur_list: \n['Data Analyst', 'IBM', 'python', 'SQL', 'excel', 'SAS', 'BI']\nret_l: \n['Data Analyst', 'IBM', 1, 0, 1, 0, 0, 1, 1, 0, 0, 0, 0, 0, 0, 0, 0, 0, 0, 0, 1]\n\n\ncur_list: \n['Data Analyst', 'Babylist', 'python', 'SQL', 'excel', 'Jupyter', 'BI']\nret_l: \n['Data Analyst', 'Babylist', 1, 0, 1, 0, 0, 1, 0, 0, 0, 1, 0, 0, 0, 0, 0, 0, 0, 0, 1]\n\n\ncur_list: \n['Senior Data Analyst', 'kraken', 'python', 'SQL', 'Tableau', 'BI']\nret_l: \n['Senior Data Analyst', 'kraken', 1, 0, 1, 0, 0, 0, 0, 0, 0, 0, 1, 0, 0, 0, 0, 0, 0, 0, 1]\n\n\ncur_list: \n['Data Scientist - Everyday Health', 'Everyday Health - Pregnancy & Parenting', 'python', 'SQL', 'BI']\nret_l: \n['Data Scientist - Everyday Health', 'Everyday Health - Pregnancy & Parenting', 1, 0, 1, 0, 0, 0, 0, 0, 0, 0, 0, 0, 0, 0, 0, 0, 0, 0, 1]\n\n\ncur_list: \n['Data Scientist', 'Harvest NYC', 'python', 'SQL', 'BI']\nret_l: \n['Data Scientist', 'Harvest NYC', 1, 0, 1, 0, 0, 0, 0, 0, 0, 0, 0, 0, 0, 0, 0, 0, 0, 0, 1]\n\n\ncur_list: \n['Senior Data Analyst', 'Zuora', 'SQL', 'excel', 'BI']\nret_l: \n['Senior Data Analyst', 'Zuora', 0, 0, 1, 0, 0, 1, 0, 0, 0, 0, 0, 0, 0, 0, 0, 0, 0, 0, 1]\n\n\ncur_list: \n['Data Scientist', ' Risk and Fraud', 'Eventbrite', 'python', 'SQL', 'BI']\nret_l: \n['Data Scientist', ' Risk and Fraud_Eventbrite', 1, 0, 1, 0, 0, 0, 0, 0, 0, 0, 0, 0, 0, 0, 0, 0, 0, 0, 1]\n\n\ncur_list: \n['Director of Data & Analytics', 'TeamSnap', ' Inc.', 'python', 'SQL', 'Tableau', 'BI']\nret_l: \n['Director of Data & Analytics', 'TeamSnap_ Inc.', 1, 0, 1, 0, 0, 0, 0, 0, 0, 0, 1, 0, 0, 0, 0, 0, 0, 0, 1]\n\n\ncur_list: \n['Junior Business Analyst - Reporting & Data Insights', 'Teach For America', 'SQL', 'SAS', 'BI']\nret_l: \n['Junior Business Analyst - Reporting & Data Insights', 'Teach For America', 0, 0, 1, 0, 0, 0, 1, 0, 0, 0, 0, 0, 0, 0, 0, 0, 0, 0, 1]\n\n\ncur_list: \n['Data Scientist', 'Florida Blue', 'python', ' R ', 'SQL', 'SAS', 'BI']\nret_l: \n['Data Scientist', 'Florida Blue', 1, 1, 1, 0, 0, 0, 1, 0, 0, 0, 0, 0, 0, 0, 0, 0, 0, 0, 1]\n\n\ncur_list: \n['Data Science Manager - Marketplaces (Remote)', 'Yelp', 'BI']\nret_l: \n['Data Science Manager - Marketplaces (Remote)', 'Yelp', 0, 0, 0, 0, 0, 0, 0, 0, 0, 0, 0, 0, 0, 0, 0, 0, 0, 0, 1]\n\n\ncur_list: \n['Data Scientist', 'Alpha Net Consulting', 'python', 'BI']\nret_l: \n['Data Scientist', 'Alpha Net Consulting', 1, 0, 0, 0, 0, 0, 0, 0, 0, 0, 0, 0, 0, 0, 0, 0, 0, 0, 1]\n\n\ncur_list: \n['Manager - Data Analytics', 'TDS', 'SQL', 'excel', 'SAS', 'Tableau', 'BI']\nret_l: \n['Manager - Data Analytics', 'TDS', 0, 0, 1, 0, 0, 1, 1, 0, 0, 0, 1, 0, 0, 0, 0, 0, 0, 0, 1]\n\n\ncur_list: \n['Sr. Data Analyst (remote)', 'AllWays Health Partners', 'SQL', 'excel', 'BI']\nret_l: \n['Sr. Data Analyst (remote)', 'AllWays Health Partners', 0, 0, 1, 0, 0, 1, 0, 0, 0, 0, 0, 0, 0, 0, 0, 0, 0, 0, 1]\n\n\ncur_list: \n['Staff Data Scientist (Remote', ' Americas)', 'Shopify', 'python', 'Tableau', 'Matplotlib', 'BI']\nret_l: \n['Staff Data Scientist (Remote', ' Americas)_Shopify', 1, 0, 0, 0, 0, 0, 0, 0, 0, 0, 1, 0, 0, 0, 1, 0, 0, 0, 1]\n\n\ncur_list: \n['Data Scientist-1', 'Mattress Firm', 'BI']\nret_l: \n['Data Scientist-1', 'Mattress Firm', 0, 0, 0, 0, 0, 0, 0, 0, 0, 0, 0, 0, 0, 0, 0, 0, 0, 0, 1]\n\n\ncur_list: \n['Data Scientist', 'Qventus', 'python', 'SQL', 'excel', 'Scikit', 'BI']\nret_l: \n['Data Scientist', 'Qventus', 1, 0, 1, 0, 0, 1, 0, 0, 0, 0, 0, 1, 0, 0, 0, 0, 0, 0, 1]\n\n\ncur_list: \n['Site Payment Analyst (remote)', 'IQVIA', 'BI']\nret_l: \n['Site Payment Analyst (remote)', 'IQVIA', 0, 0, 0, 0, 0, 0, 0, 0, 0, 0, 0, 0, 0, 0, 0, 0, 0, 0, 1]\n\n\ncur_list: \n['Senior Data Analyst', 'Mighty', 'python', 'SQL', 'excel', 'Tableau', 'BI']\nret_l: \n['Senior Data Analyst', 'Mighty', 1, 0, 1, 0, 0, 1, 0, 0, 0, 0, 1, 0, 0, 0, 0, 0, 0, 0, 1]\n\n\ncur_list: \n['Data Engineer', 'Rhino New York', 'python', 'SQL', 'BI']\nret_l: \n['Data Engineer', 'Rhino New York', 1, 0, 1, 0, 0, 0, 0, 0, 0, 0, 0, 0, 0, 0, 0, 0, 0, 0, 1]\n\n\ncur_list: \n['Data Engineering Co-op', 'Keurig Dr Pepper', 'python', 'SQL', 'excel', 'Tableau', 'Azure', 'BI']\nret_l: \n['Data Engineering Co-op', 'Keurig Dr Pepper', 1, 0, 1, 0, 0, 1, 0, 0, 0, 0, 1, 0, 0, 0, 0, 0, 0, 1, 1]\n\n\ncur_list: \n['Senior Data Scientist', 'NVIDIA', 'python', 'excel', 'Tensorflow', 'BI']\nret_l: \n['Senior Data Scientist', 'NVIDIA', 1, 0, 0, 0, 0, 1, 0, 0, 0, 0, 0, 0, 1, 0, 0, 0, 0, 0, 1]\n\n\ncur_list: \n['Data Scientist', ' Advertising Business Insights', 'Spotify', 'python', 'SQL', 'Tableau', 'BI']\nret_l: \n['Data Scientist', ' Advertising Business Insights_Spotify', 1, 0, 1, 0, 0, 0, 0, 0, 0, 0, 1, 0, 0, 0, 0, 0, 0, 0, 1]\n\n\ncur_list: \n['Data Scientist', 'Inspire', 'python', 'SQL', 'excel', 'Jupyter', 'Scikit', 'nltk', 'BI']\nret_l: \n['Data Scientist', 'Inspire', 1, 0, 1, 0, 0, 1, 0, 0, 0, 1, 0, 1, 0, 0, 0, 0, 1, 0, 1]\n\n\ncur_list: \n['Data Science – Health Care Client Success Lead', 'Cowen', ' Inc', 'BI']\nret_l: \n['Data Science – Health Care Client Success Lead', 'Cowen_ Inc', 0, 0, 0, 0, 0, 0, 0, 0, 0, 0, 0, 0, 0, 0, 0, 0, 0, 0, 1]\n\n\ncur_list: \n['Sr Manager', ' Data Science', 'Amazon Web Services', ' Inc.', 'excel', 'BI']\nret_l: \n['Sr Manager', ' Data Science_Amazon Web Services_ Inc.', 0, 0, 0, 0, 0, 1, 0, 0, 0, 0, 0, 0, 0, 0, 0, 0, 0, 0, 1]\n\n\ncur_list: \n['Data Scientist', 'Realogy Holdings Corp', 'python', 'BI']\nret_l: \n['Data Scientist', 'Realogy Holdings Corp', 1, 0, 0, 0, 0, 0, 0, 0, 0, 0, 0, 0, 0, 0, 0, 0, 0, 0, 1]\n\n\ncur_list: \n['Lead Data Scientist', 'Atomic', 'SQL', 'Tensorflow', 'BI']\nret_l: \n['Lead Data Scientist', 'Atomic', 0, 0, 1, 0, 0, 0, 0, 0, 0, 0, 0, 0, 1, 0, 0, 0, 0, 0, 1]\n\n\ncur_list: \n['Data Scientist - Shops Seller Ecosystem', 'Facebook', 'python', ' R ', 'SQL', 'BI']\nret_l: \n['Data Scientist - Shops Seller Ecosystem', 'Facebook', 1, 1, 1, 0, 0, 0, 0, 0, 0, 0, 0, 0, 0, 0, 0, 0, 0, 0, 1]\n\n\ncur_list: \n['Senior Data Analyst-Marketing', 'Kaiser Permanente', '']\nsomething went wrong\n                                            job_title  \\\n0                              data scientist -Remote   \n1   Part-Time Student-Smart Connected Factory/Data...   \n2                                      Data Scientist   \n3                                      Data Scientist   \n4                   Part Time Data Science Instructor   \n..                                                ...   \n67     Data Science – Health Care Client Success Lead   \n68                                         Sr Manager   \n69                                     Data Scientist   \n70                                Lead Data Scientist   \n71            Data Scientist - Shops Seller Ecosystem   \n\n                               company_name  python   R   SQL  D3.js  matlab  \\\n0                                 Starbucks       1    0    1      0       0   \n1                                John Deere       0    0    0      0       0   \n2                          Podcasts_Spotify       1    0    1      0       0   \n3                   IntelliGen Technologies       0    0    0      0       0   \n4                                    Kaplan       1    0    0      0       0   \n..                                      ...     ...  ...  ...    ...     ...   \n67                               Cowen_ Inc       0    0    0      0       0   \n68   Data Science_Amazon Web Services_ Inc.       0    0    0      0       0   \n69                    Realogy Holdings Corp       1    0    0      0       0   \n70                                   Atomic       0    0    1      0       0   \n71                                 Facebook       1    1    1      0       0   \n\n    excel  SAS  BigML  ...  Jupyter  Tableau  Scikit  Tensorflow  Weka  \\\n0       0    0      0  ...        0        0       0           0     0   \n1       0    0      0  ...        0        0       0           0     0   \n2       1    0      0  ...        0        0       0           0     0   \n3       0    0      0  ...        0        0       0           0     0   \n4       1    0      0  ...        0        0       0           0     0   \n..    ...  ...    ...  ...      ...      ...     ...         ...   ...   \n67      0    0      0  ...        0        0       0           0     0   \n68      1    0      0  ...        0        0       0           0     0   \n69      0    0      0  ...        0        0       0           0     0   \n70      0    0      0  ...        0        0       0           1     0   \n71      0    0      0  ...        0        0       0           0     0   \n\n    Matplotlib  ggplot  nltk  Azure  BI  \n0            0       0     0      0   1  \n1            0       0     0      0   1  \n2            0       0     0      0   1  \n3            0       0     0      0   1  \n4            0       0     0      0   1  \n..         ...     ...   ...    ...  ..  \n67           0       0     0      0   1  \n68           0       0     0      0   1  \n69           0       0     0      0   1  \n70           0       0     0      0   1  \n71           0       0     0      0   1  \n\n[72 rows x 21 columns]\n"
     ]
    }
   ],
   "source": [
    "\"\"\" convert cur_table rows into new table row \"\"\"\n",
    "new_table = []\n",
    "\n",
    "for i in range(len(cur_table)):\n",
    "    empty_row = [0] * len(cols)\n",
    "    ret_l = empty_row\n",
    "    cur_list = cur_table[i].split(comma)\n",
    "    print(\"cur_list: \")\n",
    "    print(cur_list)\n",
    "    # title will be first element\n",
    "    ret_l[0] = cur_list[0]\n",
    "    # company will be everything until first tool\n",
    "    first_tool_idx = -1\n",
    "    for i in range(len(cur_list)):\n",
    "        if cur_list[i] in cols:\n",
    "            first_tool_idx = i\n",
    "            break\n",
    "    if (first_tool_idx < 0):\n",
    "        print(\"something went wrong\")\n",
    "        break\n",
    "    ret_l[1] = (\"_\").join(cur_list[1:first_tool_idx])\n",
    "    # encode the tools\n",
    "    for i in range(len(cur_list)):\n",
    "        if cur_list[i] in tool_dct:\n",
    "            ret_l[tool_dct[cur_list[i]]] = 1\n",
    "    print(\"ret_l: \")\n",
    "    print(ret_l)\n",
    "    print(\"\\n\")\n",
    "    new_table.append(ret_l)\n",
    "\n",
    "df = pd.DataFrame(new_table, columns=cols)\n",
    "print(df)\n"
   ]
  },
  {
   "cell_type": "code",
   "execution_count": 12,
   "metadata": {},
   "outputs": [
    {
     "output_type": "stream",
     "name": "stdout",
     "text": [
      "<class 'str'>\n<class 'str'>\n<class 'str'>\n<class 'str'>\n<class 'str'>\n<class 'str'>\n<class 'str'>\n<class 'str'>\n<class 'str'>\n<class 'str'>\n<class 'str'>\n<class 'str'>\n<class 'str'>\n<class 'str'>\n<class 'str'>\n<class 'str'>\n<class 'str'>\n<class 'str'>\n<class 'str'>\n<class 'str'>\n<class 'str'>\n<class 'str'>\n<class 'str'>\n<class 'str'>\n<class 'str'>\n<class 'str'>\n<class 'str'>\n<class 'str'>\n<class 'str'>\n<class 'str'>\n<class 'str'>\n<class 'str'>\n<class 'str'>\n<class 'str'>\n<class 'str'>\n<class 'str'>\n<class 'str'>\n<class 'str'>\n<class 'str'>\n<class 'str'>\n<class 'str'>\n<class 'str'>\n<class 'str'>\n<class 'str'>\n<class 'str'>\n<class 'str'>\n<class 'str'>\n<class 'str'>\n<class 'str'>\n<class 'str'>\n<class 'str'>\n<class 'str'>\n<class 'str'>\n<class 'str'>\n<class 'str'>\n<class 'str'>\n<class 'str'>\n<class 'str'>\n<class 'str'>\n<class 'str'>\n<class 'str'>\n<class 'str'>\n<class 'str'>\n<class 'str'>\n<class 'str'>\n<class 'str'>\n<class 'str'>\n<class 'str'>\n<class 'str'>\n<class 'str'>\n<class 'str'>\n<class 'str'>\n<class 'str'>\n<class 'str'>\n<class 'str'>\n<class 'str'>\n<class 'str'>\n<class 'str'>\n<class 'str'>\n<class 'str'>\n<class 'str'>\n<class 'str'>\n<class 'str'>\n<class 'str'>\n<class 'str'>\n<class 'str'>\n<class 'str'>\n<class 'str'>\n<class 'str'>\n<class 'str'>\n<class 'str'>\n<class 'str'>\n<class 'str'>\n<class 'str'>\n<class 'str'>\n<class 'str'>\n<class 'str'>\n<class 'str'>\n<class 'str'>\n<class 'str'>\n"
     ]
    }
   ],
   "source": [
    "# df to csv\n",
    "\n"
   ]
  },
  {
   "cell_type": "code",
   "execution_count": 6,
   "metadata": {},
   "outputs": [
    {
     "output_type": "execute_result",
     "data": {
      "text/plain": [
       "Empty DataFrame\n",
       "Columns: [job_title, company_name, python,  R , SQL, D3.js, matlab, excel, SAS, BigML, Apache Spark, Jupyter, Tableau, Scikit, Tensorflow, Weka, Matplotlib, ggplot, nltk, Azure, BI]\n",
       "Index: []\n",
       "\n",
       "[0 rows x 21 columns]"
      ],
      "text/html": "<div>\n<style scoped>\n    .dataframe tbody tr th:only-of-type {\n        vertical-align: middle;\n    }\n\n    .dataframe tbody tr th {\n        vertical-align: top;\n    }\n\n    .dataframe thead th {\n        text-align: right;\n    }\n</style>\n<table border=\"1\" class=\"dataframe\">\n  <thead>\n    <tr style=\"text-align: right;\">\n      <th></th>\n      <th>job_title</th>\n      <th>company_name</th>\n      <th>python</th>\n      <th>R</th>\n      <th>SQL</th>\n      <th>D3.js</th>\n      <th>matlab</th>\n      <th>excel</th>\n      <th>SAS</th>\n      <th>BigML</th>\n      <th>...</th>\n      <th>Jupyter</th>\n      <th>Tableau</th>\n      <th>Scikit</th>\n      <th>Tensorflow</th>\n      <th>Weka</th>\n      <th>Matplotlib</th>\n      <th>ggplot</th>\n      <th>nltk</th>\n      <th>Azure</th>\n      <th>BI</th>\n    </tr>\n  </thead>\n  <tbody>\n  </tbody>\n</table>\n<p>0 rows × 21 columns</p>\n</div>"
     },
     "metadata": {},
     "execution_count": 6
    }
   ],
   "source": [
    "\n",
    "#print(cols)\n",
    "\n",
    "\n",
    "    "
   ]
  },
  {
   "cell_type": "code",
   "execution_count": 19,
   "metadata": {},
   "outputs": [
    {
     "output_type": "execute_result",
     "data": {
      "text/plain": [
       "'a-a-a-a-a-a-a-a-a-a'"
      ]
     },
     "metadata": {},
     "execution_count": 19
    }
   ],
   "source": [
    "x = [\"a\"] * 10\n",
    "(\"-\").join(x)"
   ]
  },
  {
   "cell_type": "code",
   "execution_count": 5,
   "metadata": {},
   "outputs": [
    {
     "output_type": "error",
     "ename": "NameError",
     "evalue": "name 'new_table' is not defined",
     "traceback": [
      "\u001b[0;31m---------------------------------------------------------------------------\u001b[0m",
      "\u001b[0;31mNameError\u001b[0m                                 Traceback (most recent call last)",
      "\u001b[0;32m<ipython-input-5-7899194fa2f1>\u001b[0m in \u001b[0;36m<module>\u001b[0;34m\u001b[0m\n\u001b[0;32m----> 1\u001b[0;31m \u001b[0mnew_table\u001b[0m\u001b[0;34m\u001b[0m\u001b[0;34m\u001b[0m\u001b[0m\n\u001b[0m",
      "\u001b[0;31mNameError\u001b[0m: name 'new_table' is not defined"
     ]
    }
   ],
   "source": [
    "new_table"
   ]
  },
  {
   "cell_type": "code",
   "execution_count": null,
   "metadata": {},
   "outputs": [],
   "source": []
  }
 ]
}